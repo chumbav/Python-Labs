{
 "cells": [
  {
   "cell_type": "markdown",
   "id": "ca43f050",
   "metadata": {
    "papermill": {
     "duration": 0.006721,
     "end_time": "2025-05-13T21:00:26.677728",
     "exception": false,
     "start_time": "2025-05-13T21:00:26.671007",
     "status": "completed"
    },
    "tags": []
   },
   "source": [
    "**This notebook is an exercise in the [Python](https://www.kaggle.com/learn/python) course.  You can reference the tutorial at [this link](https://www.kaggle.com/colinmorris/booleans-and-conditionals).**\n",
    "\n",
    "---\n"
   ]
  },
  {
   "cell_type": "markdown",
   "id": "caa69e35",
   "metadata": {
    "papermill": {
     "duration": 0.005474,
     "end_time": "2025-05-13T21:00:26.689917",
     "exception": false,
     "start_time": "2025-05-13T21:00:26.684443",
     "status": "completed"
    },
    "tags": []
   },
   "source": [
    "In this exercise, you'll put to work what you have learned about booleans and conditionals.\n",
    "\n",
    "To get started, **run the setup code below** before writing your own code (and if you leave this notebook and come back later, don't forget to run the setup code again)."
   ]
  },
  {
   "cell_type": "code",
   "execution_count": 1,
   "id": "24d1e338",
   "metadata": {
    "execution": {
     "iopub.execute_input": "2025-05-13T21:00:26.703553Z",
     "iopub.status.busy": "2025-05-13T21:00:26.703250Z",
     "iopub.status.idle": "2025-05-13T21:00:28.782335Z",
     "shell.execute_reply": "2025-05-13T21:00:28.781431Z"
    },
    "papermill": {
     "duration": 2.087929,
     "end_time": "2025-05-13T21:00:28.783898",
     "exception": false,
     "start_time": "2025-05-13T21:00:26.695969",
     "status": "completed"
    },
    "tags": []
   },
   "outputs": [
    {
     "name": "stdout",
     "output_type": "stream",
     "text": [
      "Setup complete.\n"
     ]
    }
   ],
   "source": [
    "from learntools.core import binder; binder.bind(globals())\n",
    "from learntools.python.ex3 import *\n",
    "print('Setup complete.')"
   ]
  },
  {
   "cell_type": "markdown",
   "id": "913aa4e8",
   "metadata": {
    "papermill": {
     "duration": 0.006886,
     "end_time": "2025-05-13T21:00:28.796854",
     "exception": false,
     "start_time": "2025-05-13T21:00:28.789968",
     "status": "completed"
    },
    "tags": []
   },
   "source": [
    "# 1.\n",
    "\n",
    "Many programming languages have [`sign`](https://en.wikipedia.org/wiki/Sign_function) available as a built-in function. Python doesn't, but we can define our own!\n",
    "\n",
    "In the cell below, define a function called `sign` which takes a numerical argument and returns -1 if it's negative, 1 if it's positive, and 0 if it's 0."
   ]
  },
  {
   "cell_type": "code",
   "execution_count": 2,
   "id": "bd819bea",
   "metadata": {
    "execution": {
     "iopub.execute_input": "2025-05-13T21:00:28.816904Z",
     "iopub.status.busy": "2025-05-13T21:00:28.816438Z",
     "iopub.status.idle": "2025-05-13T21:00:28.827279Z",
     "shell.execute_reply": "2025-05-13T21:00:28.826341Z"
    },
    "papermill": {
     "duration": 0.0228,
     "end_time": "2025-05-13T21:00:28.829054",
     "exception": false,
     "start_time": "2025-05-13T21:00:28.806254",
     "status": "completed"
    },
    "tags": []
   },
   "outputs": [
    {
     "data": {
      "application/javascript": [
       "parent.postMessage({\"jupyterEvent\": \"custom.exercise_interaction\", \"data\": {\"outcomeType\": 1, \"valueTowardsCompletion\": 0.2, \"interactionType\": 1, \"questionType\": 2, \"questionId\": \"1_SignFunctionProblem\", \"learnToolsVersion\": \"0.3.5\", \"failureMessage\": \"\", \"exceptionClass\": \"\", \"trace\": \"\"}}, \"*\")"
      ],
      "text/plain": [
       "<IPython.core.display.Javascript object>"
      ]
     },
     "metadata": {},
     "output_type": "display_data"
    },
    {
     "data": {
      "text/markdown": [
       "<span style=\"color:#33cc33\">Correct</span>"
      ],
      "text/plain": [
       "Correct"
      ]
     },
     "metadata": {},
     "output_type": "display_data"
    }
   ],
   "source": [
    "# Your code goes here. Define a function called 'sign'\n",
    "def sign (y):\n",
    "    if y < 0 :\n",
    "        return(-1)\n",
    "    elif y > 0:\n",
    "        return(1)\n",
    "    else: \n",
    "        return(0)\n",
    "\n",
    "\n",
    "# Check your answer\n",
    "q1.check()"
   ]
  },
  {
   "cell_type": "code",
   "execution_count": 3,
   "id": "2ce18170",
   "metadata": {
    "execution": {
     "iopub.execute_input": "2025-05-13T21:00:28.842872Z",
     "iopub.status.busy": "2025-05-13T21:00:28.842541Z",
     "iopub.status.idle": "2025-05-13T21:00:28.846839Z",
     "shell.execute_reply": "2025-05-13T21:00:28.845964Z"
    },
    "papermill": {
     "duration": 0.012753,
     "end_time": "2025-05-13T21:00:28.848382",
     "exception": false,
     "start_time": "2025-05-13T21:00:28.835629",
     "status": "completed"
    },
    "tags": []
   },
   "outputs": [],
   "source": [
    "#q1.solution()"
   ]
  },
  {
   "cell_type": "markdown",
   "id": "64a1690e",
   "metadata": {
    "papermill": {
     "duration": 0.005921,
     "end_time": "2025-05-13T21:00:28.860883",
     "exception": false,
     "start_time": "2025-05-13T21:00:28.854962",
     "status": "completed"
    },
    "tags": []
   },
   "source": [
    "# 2.\n",
    "\n",
    "We've decided to add \"logging\" to our `to_smash` function from the previous exercise."
   ]
  },
  {
   "cell_type": "code",
   "execution_count": 4,
   "id": "5515c5ec",
   "metadata": {
    "execution": {
     "iopub.execute_input": "2025-05-13T21:00:28.875132Z",
     "iopub.status.busy": "2025-05-13T21:00:28.874240Z",
     "iopub.status.idle": "2025-05-13T21:00:28.882604Z",
     "shell.execute_reply": "2025-05-13T21:00:28.881764Z"
    },
    "papermill": {
     "duration": 0.017071,
     "end_time": "2025-05-13T21:00:28.884133",
     "exception": false,
     "start_time": "2025-05-13T21:00:28.867062",
     "status": "completed"
    },
    "tags": []
   },
   "outputs": [
    {
     "name": "stdout",
     "output_type": "stream",
     "text": [
      "Splitting 91 candies\n"
     ]
    },
    {
     "data": {
      "text/plain": [
       "1"
      ]
     },
     "execution_count": 4,
     "metadata": {},
     "output_type": "execute_result"
    }
   ],
   "source": [
    "def to_smash(total_candies):\n",
    "    \"\"\"Return the number of leftover candies that must be smashed after distributing\n",
    "    the given number of candies evenly between 3 friends.\n",
    "    \n",
    "    >>> to_smash(91)\n",
    "    1\n",
    "    \"\"\"\n",
    "    \n",
    "    print(\"Splitting\", total_candies, \"candies\")\n",
    "    return total_candies % 3\n",
    "\n",
    "to_smash(91)"
   ]
  },
  {
   "cell_type": "markdown",
   "id": "519c7d49",
   "metadata": {
    "papermill": {
     "duration": 0.006753,
     "end_time": "2025-05-13T21:00:28.898304",
     "exception": false,
     "start_time": "2025-05-13T21:00:28.891551",
     "status": "completed"
    },
    "tags": []
   },
   "source": [
    "What happens if we call it with `total_candies = 1`?"
   ]
  },
  {
   "cell_type": "code",
   "execution_count": 5,
   "id": "d0d816ef",
   "metadata": {
    "execution": {
     "iopub.execute_input": "2025-05-13T21:00:28.917341Z",
     "iopub.status.busy": "2025-05-13T21:00:28.916715Z",
     "iopub.status.idle": "2025-05-13T21:00:28.924295Z",
     "shell.execute_reply": "2025-05-13T21:00:28.923161Z"
    },
    "papermill": {
     "duration": 0.019317,
     "end_time": "2025-05-13T21:00:28.926356",
     "exception": false,
     "start_time": "2025-05-13T21:00:28.907039",
     "status": "completed"
    },
    "tags": []
   },
   "outputs": [
    {
     "name": "stdout",
     "output_type": "stream",
     "text": [
      "Splitting 1 candies\n"
     ]
    },
    {
     "data": {
      "text/plain": [
       "1"
      ]
     },
     "execution_count": 5,
     "metadata": {},
     "output_type": "execute_result"
    }
   ],
   "source": [
    "to_smash(1)"
   ]
  },
  {
   "cell_type": "markdown",
   "id": "d7887ef6",
   "metadata": {
    "papermill": {
     "duration": 0.00809,
     "end_time": "2025-05-13T21:00:28.942693",
     "exception": false,
     "start_time": "2025-05-13T21:00:28.934603",
     "status": "completed"
    },
    "tags": []
   },
   "source": [
    "That isn't great grammar!\n",
    "\n",
    "Modify the definition in the cell below to correct the grammar of our print statement. (If there's only one candy, we should use the singular \"candy\" instead of the plural \"candies\")"
   ]
  },
  {
   "cell_type": "code",
   "execution_count": 6,
   "id": "5580c733",
   "metadata": {
    "execution": {
     "iopub.execute_input": "2025-05-13T21:00:28.957130Z",
     "iopub.status.busy": "2025-05-13T21:00:28.956370Z",
     "iopub.status.idle": "2025-05-13T21:00:28.963888Z",
     "shell.execute_reply": "2025-05-13T21:00:28.962997Z"
    },
    "papermill": {
     "duration": 0.016119,
     "end_time": "2025-05-13T21:00:28.965304",
     "exception": false,
     "start_time": "2025-05-13T21:00:28.949185",
     "status": "completed"
    },
    "tags": []
   },
   "outputs": [
    {
     "name": "stdout",
     "output_type": "stream",
     "text": [
      "Splitting 91 candies\n",
      "Splitting 1 candy\n"
     ]
    },
    {
     "data": {
      "text/plain": [
       "1"
      ]
     },
     "execution_count": 6,
     "metadata": {},
     "output_type": "execute_result"
    }
   ],
   "source": [
    "def to_smash(total_candies):\n",
    "    \"\"\"Return the number of leftover candies that must be smashed after distributing\n",
    "    the given number of candies evenly between 3 friends.\n",
    "    \n",
    "    >>> to_smash(91)\n",
    "    1\n",
    "    \"\"\"\n",
    "    if total_candies == 1:\n",
    "        print(\"Splitting\", total_candies, \"candy\")\n",
    "    else:\n",
    "        print(\"Splitting\", total_candies, \"candies\")\n",
    "    return total_candies % 3\n",
    "\n",
    "to_smash(91)\n",
    "to_smash(1)"
   ]
  },
  {
   "cell_type": "markdown",
   "id": "db26ec45",
   "metadata": {
    "papermill": {
     "duration": 0.006102,
     "end_time": "2025-05-13T21:00:28.978018",
     "exception": false,
     "start_time": "2025-05-13T21:00:28.971916",
     "status": "completed"
    },
    "tags": []
   },
   "source": [
    "To get credit for completing this problem, and to see the official answer, run the code cell below."
   ]
  },
  {
   "cell_type": "code",
   "execution_count": 7,
   "id": "0a85e6e4",
   "metadata": {
    "execution": {
     "iopub.execute_input": "2025-05-13T21:00:28.993649Z",
     "iopub.status.busy": "2025-05-13T21:00:28.992897Z",
     "iopub.status.idle": "2025-05-13T21:00:29.001158Z",
     "shell.execute_reply": "2025-05-13T21:00:29.000191Z"
    },
    "papermill": {
     "duration": 0.018003,
     "end_time": "2025-05-13T21:00:29.002633",
     "exception": false,
     "start_time": "2025-05-13T21:00:28.984630",
     "status": "completed"
    },
    "tags": []
   },
   "outputs": [
    {
     "data": {
      "application/javascript": [
       "parent.postMessage({\"jupyterEvent\": \"custom.exercise_interaction\", \"data\": {\"interactionType\": 3, \"questionType\": 4, \"questionId\": \"2_PluralizationProblem\", \"learnToolsVersion\": \"0.3.5\", \"valueTowardsCompletion\": 0.0, \"failureMessage\": \"\", \"exceptionClass\": \"\", \"trace\": \"\", \"outcomeType\": 4}}, \"*\")"
      ],
      "text/plain": [
       "<IPython.core.display.Javascript object>"
      ]
     },
     "metadata": {},
     "output_type": "display_data"
    },
    {
     "data": {
      "text/markdown": [
       "<span style=\"color:#33cc99\">Solution:</span> A straightforward (and totally fine) solution is to replace the original `print` call with:\n",
       "\n",
       "```python\n",
       "if total_candies == 1:\n",
       "    print(\"Splitting 1 candy\")\n",
       "else:\n",
       "    print(\"Splitting\", total_candies, \"candies\")\n",
       "```\n",
       "\n",
       "Here's a slightly more succinct solution using a conditional expression:\n",
       "\n",
       "```python\n",
       "print(\"Splitting\", total_candies, \"candy\" if total_candies == 1 else \"candies\")\n",
       "```"
      ],
      "text/plain": [
       "Solution: A straightforward (and totally fine) solution is to replace the original `print` call with:\n",
       "\n",
       "```python\n",
       "if total_candies == 1:\n",
       "    print(\"Splitting 1 candy\")\n",
       "else:\n",
       "    print(\"Splitting\", total_candies, \"candies\")\n",
       "```\n",
       "\n",
       "Here's a slightly more succinct solution using a conditional expression:\n",
       "\n",
       "```python\n",
       "print(\"Splitting\", total_candies, \"candy\" if total_candies == 1 else \"candies\")\n",
       "```"
      ]
     },
     "metadata": {},
     "output_type": "display_data"
    }
   ],
   "source": [
    "# Check your answer (Run this code cell to receive credit!)\n",
    "q2.solution()"
   ]
  },
  {
   "cell_type": "markdown",
   "id": "5d7f4580",
   "metadata": {
    "papermill": {
     "duration": 0.006376,
     "end_time": "2025-05-13T21:00:29.016524",
     "exception": false,
     "start_time": "2025-05-13T21:00:29.010148",
     "status": "completed"
    },
    "tags": []
   },
   "source": [
    "# 3. <span title=\"A bit spicy\" style=\"color: darkgreen \">🌶️</span>\n",
    "\n",
    "In the tutorial, we talked about deciding whether we're prepared for the weather. I said that I'm safe from today's weather if...\n",
    "- I have an umbrella...\n",
    "- or if the rain isn't too heavy and I have a hood...\n",
    "- otherwise, I'm still fine unless it's raining *and* it's a workday\n",
    "\n",
    "The function below uses our first attempt at turning this logic into a Python expression. I claimed that there was a bug in that code. Can you find it?\n",
    "\n",
    "To prove that `prepared_for_weather` is buggy, come up with a set of inputs where either:\n",
    "- the function returns `False` (but should have returned `True`), or\n",
    "- the function returned `True` (but should have returned `False`).\n",
    "\n",
    "To get credit for completing this question, your code should return a <font color='#33cc33'>Correct</font> result."
   ]
  },
  {
   "cell_type": "code",
   "execution_count": 8,
   "id": "905af3b3",
   "metadata": {
    "execution": {
     "iopub.execute_input": "2025-05-13T21:00:29.032331Z",
     "iopub.status.busy": "2025-05-13T21:00:29.032032Z",
     "iopub.status.idle": "2025-05-13T21:00:29.041305Z",
     "shell.execute_reply": "2025-05-13T21:00:29.040506Z"
    },
    "papermill": {
     "duration": 0.019129,
     "end_time": "2025-05-13T21:00:29.043191",
     "exception": false,
     "start_time": "2025-05-13T21:00:29.024062",
     "status": "completed"
    },
    "tags": []
   },
   "outputs": [
    {
     "name": "stdout",
     "output_type": "stream",
     "text": [
      "False\n"
     ]
    },
    {
     "data": {
      "application/javascript": [
       "parent.postMessage({\"jupyterEvent\": \"custom.exercise_interaction\", \"data\": {\"outcomeType\": 1, \"valueTowardsCompletion\": 0.2, \"interactionType\": 1, \"questionType\": 1, \"questionId\": \"3_WeatherDebug\", \"learnToolsVersion\": \"0.3.5\", \"failureMessage\": \"\", \"exceptionClass\": \"\", \"trace\": \"\"}}, \"*\")"
      ],
      "text/plain": [
       "<IPython.core.display.Javascript object>"
      ]
     },
     "metadata": {},
     "output_type": "display_data"
    },
    {
     "data": {
      "text/markdown": [
       "<span style=\"color:#33cc33\">Correct:</span> \n",
       "\n",
       "One example of a failing test case is:\n",
       "\n",
       "```python\n",
       "have_umbrella = False\n",
       "rain_level = 0.0\n",
       "have_hood = False\n",
       "is_workday = False\n",
       "```\n",
       "\n",
       "Clearly we're prepared for the weather in this case. It's not raining. Not only that, it's not a workday, so we don't even need to leave the house! But our function will return False on these inputs.\n",
       "\n",
       "The key problem is that Python implictly parenthesizes the last part as:\n",
       "\n",
       "```python\n",
       "(not (rain_level > 0)) and is_workday\n",
       "```\n",
       "\n",
       "Whereas what we were trying to express would look more like:\n",
       "\n",
       "```python\n",
       "not (rain_level > 0 and is_workday)\n",
       "```\n"
      ],
      "text/plain": [
       "Correct: \n",
       "\n",
       "One example of a failing test case is:\n",
       "\n",
       "```python\n",
       "have_umbrella = False\n",
       "rain_level = 0.0\n",
       "have_hood = False\n",
       "is_workday = False\n",
       "```\n",
       "\n",
       "Clearly we're prepared for the weather in this case. It's not raining. Not only that, it's not a workday, so we don't even need to leave the house! But our function will return False on these inputs.\n",
       "\n",
       "The key problem is that Python implictly parenthesizes the last part as:\n",
       "\n",
       "```python\n",
       "(not (rain_level > 0)) and is_workday\n",
       "```\n",
       "\n",
       "Whereas what we were trying to express would look more like:\n",
       "\n",
       "```python\n",
       "not (rain_level > 0 and is_workday)\n",
       "```"
      ]
     },
     "metadata": {},
     "output_type": "display_data"
    }
   ],
   "source": [
    "def prepared_for_weather(have_umbrella, rain_level, have_hood, is_workday):\n",
    "    # Don't change this code. Our goal is just to find the bug, not fix it!\n",
    "    return have_umbrella or rain_level < 5 and have_hood or not rain_level > 0 and is_workday\n",
    "\n",
    "# Change the values of these inputs so they represent a case where prepared_for_weather\n",
    "# returns the wrong answer.\n",
    "have_umbrella = False\n",
    "rain_level = 7.0\n",
    "have_hood = False\n",
    "is_workday = False\n",
    "\n",
    "# Check what the function returns given the current values of the variables above\n",
    "actual = prepared_for_weather(have_umbrella, rain_level, have_hood, is_workday)\n",
    "print(actual)\n",
    "\n",
    "# Check your answer\n",
    "q3.check()"
   ]
  },
  {
   "cell_type": "code",
   "execution_count": 9,
   "id": "8c55ee72",
   "metadata": {
    "execution": {
     "iopub.execute_input": "2025-05-13T21:00:29.064490Z",
     "iopub.status.busy": "2025-05-13T21:00:29.063838Z",
     "iopub.status.idle": "2025-05-13T21:00:29.067586Z",
     "shell.execute_reply": "2025-05-13T21:00:29.066741Z"
    },
    "papermill": {
     "duration": 0.013258,
     "end_time": "2025-05-13T21:00:29.069038",
     "exception": false,
     "start_time": "2025-05-13T21:00:29.055780",
     "status": "completed"
    },
    "tags": []
   },
   "outputs": [],
   "source": [
    "#q3.hint()\n",
    "#q3.solution()"
   ]
  },
  {
   "cell_type": "markdown",
   "id": "fcaeeeec",
   "metadata": {
    "papermill": {
     "duration": 0.006863,
     "end_time": "2025-05-13T21:00:29.083145",
     "exception": false,
     "start_time": "2025-05-13T21:00:29.076282",
     "status": "completed"
    },
    "tags": []
   },
   "source": [
    "# 4.\n",
    "\n",
    "The function `is_negative` below is implemented correctly - it returns True if the given number is negative and False otherwise.\n",
    "\n",
    "However, it's more verbose than it needs to be. We can actually reduce the number of lines of code in this function by *75%* while keeping the same behaviour. \n",
    "\n",
    "See if you can come up with an equivalent body that uses just **one line** of code, and put it in the function `concise_is_negative`. (HINT: you don't even need Python's ternary syntax)"
   ]
  },
  {
   "cell_type": "code",
   "execution_count": 10,
   "id": "3b26cbec",
   "metadata": {
    "execution": {
     "iopub.execute_input": "2025-05-13T21:00:29.098323Z",
     "iopub.status.busy": "2025-05-13T21:00:29.098038Z",
     "iopub.status.idle": "2025-05-13T21:00:29.105817Z",
     "shell.execute_reply": "2025-05-13T21:00:29.104984Z"
    },
    "papermill": {
     "duration": 0.017184,
     "end_time": "2025-05-13T21:00:29.107467",
     "exception": false,
     "start_time": "2025-05-13T21:00:29.090283",
     "status": "completed"
    },
    "tags": []
   },
   "outputs": [
    {
     "data": {
      "application/javascript": [
       "parent.postMessage({\"jupyterEvent\": \"custom.exercise_interaction\", \"data\": {\"outcomeType\": 1, \"valueTowardsCompletion\": 0.2, \"interactionType\": 1, \"questionType\": 2, \"questionId\": \"4_ConciseIsNegative\", \"learnToolsVersion\": \"0.3.5\", \"failureMessage\": \"\", \"exceptionClass\": \"\", \"trace\": \"\"}}, \"*\")"
      ],
      "text/plain": [
       "<IPython.core.display.Javascript object>"
      ]
     },
     "metadata": {},
     "output_type": "display_data"
    },
    {
     "data": {
      "text/markdown": [
       "<span style=\"color:#33cc33\">Correct</span>"
      ],
      "text/plain": [
       "Correct"
      ]
     },
     "metadata": {},
     "output_type": "display_data"
    }
   ],
   "source": [
    "def is_negative(number):\n",
    "    if number < 0:\n",
    "        return True\n",
    "    else:\n",
    "        return False\n",
    "\n",
    "def concise_is_negative(number):\n",
    "    pass # Your code goes here (try to keep it to one line!)\n",
    "    return number < 0\n",
    "\n",
    "# Check your answer\n",
    "q4.check()"
   ]
  },
  {
   "cell_type": "code",
   "execution_count": 11,
   "id": "5275aacf",
   "metadata": {
    "execution": {
     "iopub.execute_input": "2025-05-13T21:00:29.129824Z",
     "iopub.status.busy": "2025-05-13T21:00:29.129420Z",
     "iopub.status.idle": "2025-05-13T21:00:29.133863Z",
     "shell.execute_reply": "2025-05-13T21:00:29.133027Z"
    },
    "papermill": {
     "duration": 0.014775,
     "end_time": "2025-05-13T21:00:29.135327",
     "exception": false,
     "start_time": "2025-05-13T21:00:29.120552",
     "status": "completed"
    },
    "tags": []
   },
   "outputs": [],
   "source": [
    "#q4.hint()\n",
    "#q4.solution()"
   ]
  },
  {
   "cell_type": "markdown",
   "id": "8837ae1d",
   "metadata": {
    "papermill": {
     "duration": 0.006926,
     "end_time": "2025-05-13T21:00:29.149593",
     "exception": false,
     "start_time": "2025-05-13T21:00:29.142667",
     "status": "completed"
    },
    "tags": []
   },
   "source": [
    "# 5a.\n",
    "\n",
    "The boolean variables `ketchup`, `mustard` and `onion` represent whether a customer wants a particular topping on their hot dog. We want to implement a number of boolean functions that correspond to some yes-or-no questions about the customer's order. For example:"
   ]
  },
  {
   "cell_type": "code",
   "execution_count": 12,
   "id": "3ad1c75b",
   "metadata": {
    "execution": {
     "iopub.execute_input": "2025-05-13T21:00:29.165848Z",
     "iopub.status.busy": "2025-05-13T21:00:29.165449Z",
     "iopub.status.idle": "2025-05-13T21:00:29.170475Z",
     "shell.execute_reply": "2025-05-13T21:00:29.169628Z"
    },
    "papermill": {
     "duration": 0.014963,
     "end_time": "2025-05-13T21:00:29.172179",
     "exception": false,
     "start_time": "2025-05-13T21:00:29.157216",
     "status": "completed"
    },
    "tags": []
   },
   "outputs": [],
   "source": [
    "def onionless(ketchup, mustard, onion):\n",
    "    \"\"\"Return whether the customer doesn't want onions.\n",
    "    \"\"\"\n",
    "    return not onion"
   ]
  },
  {
   "cell_type": "code",
   "execution_count": 13,
   "id": "8ef691a0",
   "metadata": {
    "execution": {
     "iopub.execute_input": "2025-05-13T21:00:29.188787Z",
     "iopub.status.busy": "2025-05-13T21:00:29.188391Z",
     "iopub.status.idle": "2025-05-13T21:00:29.197263Z",
     "shell.execute_reply": "2025-05-13T21:00:29.196134Z"
    },
    "papermill": {
     "duration": 0.018577,
     "end_time": "2025-05-13T21:00:29.198662",
     "exception": false,
     "start_time": "2025-05-13T21:00:29.180085",
     "status": "completed"
    },
    "tags": []
   },
   "outputs": [
    {
     "data": {
      "application/javascript": [
       "parent.postMessage({\"jupyterEvent\": \"custom.exercise_interaction\", \"data\": {\"outcomeType\": 1, \"valueTowardsCompletion\": 0.2, \"interactionType\": 1, \"questionType\": 2, \"questionId\": \"5.1_AllToppings\", \"learnToolsVersion\": \"0.3.5\", \"failureMessage\": \"\", \"exceptionClass\": \"\", \"trace\": \"\"}}, \"*\")"
      ],
      "text/plain": [
       "<IPython.core.display.Javascript object>"
      ]
     },
     "metadata": {},
     "output_type": "display_data"
    },
    {
     "data": {
      "text/markdown": [
       "<span style=\"color:#33cc33\">Correct</span>"
      ],
      "text/plain": [
       "Correct"
      ]
     },
     "metadata": {},
     "output_type": "display_data"
    }
   ],
   "source": [
    "def wants_all_toppings(ketchup, mustard, onion):\n",
    "    \"\"\"Return whether the customer wants \"the works\" (all 3 toppings)\n",
    "    \"\"\"\n",
    "    return ketchup and mustard and onion\n",
    "    pass\n",
    "\n",
    "# Check your answer\n",
    "q5.a.check()"
   ]
  },
  {
   "cell_type": "code",
   "execution_count": 14,
   "id": "27f3c006",
   "metadata": {
    "execution": {
     "iopub.execute_input": "2025-05-13T21:00:29.215584Z",
     "iopub.status.busy": "2025-05-13T21:00:29.214829Z",
     "iopub.status.idle": "2025-05-13T21:00:29.219314Z",
     "shell.execute_reply": "2025-05-13T21:00:29.218347Z"
    },
    "papermill": {
     "duration": 0.014522,
     "end_time": "2025-05-13T21:00:29.220837",
     "exception": false,
     "start_time": "2025-05-13T21:00:29.206315",
     "status": "completed"
    },
    "tags": []
   },
   "outputs": [],
   "source": [
    "#q5.a.hint()\n",
    "#q5.a.solution()"
   ]
  },
  {
   "cell_type": "markdown",
   "id": "b67d037c",
   "metadata": {
    "papermill": {
     "duration": 0.007069,
     "end_time": "2025-05-13T21:00:29.235490",
     "exception": false,
     "start_time": "2025-05-13T21:00:29.228421",
     "status": "completed"
    },
    "tags": []
   },
   "source": [
    "# 5b.\n",
    "\n",
    "For the next function, fill in the body to match the English description in the docstring. "
   ]
  },
  {
   "cell_type": "code",
   "execution_count": 15,
   "id": "56c1dd5d",
   "metadata": {
    "execution": {
     "iopub.execute_input": "2025-05-13T21:00:29.252243Z",
     "iopub.status.busy": "2025-05-13T21:00:29.251940Z",
     "iopub.status.idle": "2025-05-13T21:00:29.259774Z",
     "shell.execute_reply": "2025-05-13T21:00:29.258947Z"
    },
    "papermill": {
     "duration": 0.017991,
     "end_time": "2025-05-13T21:00:29.261233",
     "exception": false,
     "start_time": "2025-05-13T21:00:29.243242",
     "status": "completed"
    },
    "tags": []
   },
   "outputs": [
    {
     "data": {
      "application/javascript": [
       "parent.postMessage({\"jupyterEvent\": \"custom.exercise_interaction\", \"data\": {\"outcomeType\": 1, \"valueTowardsCompletion\": 0.2, \"interactionType\": 1, \"questionType\": 2, \"questionId\": \"5.2_PlainDog\", \"learnToolsVersion\": \"0.3.5\", \"failureMessage\": \"\", \"exceptionClass\": \"\", \"trace\": \"\"}}, \"*\")"
      ],
      "text/plain": [
       "<IPython.core.display.Javascript object>"
      ]
     },
     "metadata": {},
     "output_type": "display_data"
    },
    {
     "data": {
      "text/markdown": [
       "<span style=\"color:#33cc33\">Correct:</span> \n",
       "\n",
       "One solution looks like:\n",
       "```python\n",
       "return not ketchup and not mustard and not onion\n",
       "```\n",
       "\n",
       "We can also [\"factor out\" the nots](https://en.wikipedia.org/wiki/De_Morgan%27s_laws) to get:\n",
       "\n",
       "```python\n",
       "return not (ketchup or mustard or onion)\n",
       "```"
      ],
      "text/plain": [
       "Correct: \n",
       "\n",
       "One solution looks like:\n",
       "```python\n",
       "return not ketchup and not mustard and not onion\n",
       "```\n",
       "\n",
       "We can also [\"factor out\" the nots](https://en.wikipedia.org/wiki/De_Morgan%27s_laws) to get:\n",
       "\n",
       "```python\n",
       "return not (ketchup or mustard or onion)\n",
       "```"
      ]
     },
     "metadata": {},
     "output_type": "display_data"
    }
   ],
   "source": [
    "def wants_plain_hotdog(ketchup, mustard, onion):\n",
    "    \"\"\"Return whether the customer wants a plain hot dog with no toppings.\n",
    "    \"\"\"\n",
    "    return not ketchup and not mustard and not onion\n",
    "    pass\n",
    "\n",
    "# Check your answer\n",
    "q5.b.check()"
   ]
  },
  {
   "cell_type": "code",
   "execution_count": 16,
   "id": "26c6324e",
   "metadata": {
    "execution": {
     "iopub.execute_input": "2025-05-13T21:00:29.278202Z",
     "iopub.status.busy": "2025-05-13T21:00:29.277808Z",
     "iopub.status.idle": "2025-05-13T21:00:29.282298Z",
     "shell.execute_reply": "2025-05-13T21:00:29.281343Z"
    },
    "papermill": {
     "duration": 0.014819,
     "end_time": "2025-05-13T21:00:29.283999",
     "exception": false,
     "start_time": "2025-05-13T21:00:29.269180",
     "status": "completed"
    },
    "tags": []
   },
   "outputs": [],
   "source": [
    "#q5.b.hint()\n",
    "#q5.b.solution()"
   ]
  },
  {
   "cell_type": "markdown",
   "id": "8a36d03c",
   "metadata": {
    "papermill": {
     "duration": 0.01024,
     "end_time": "2025-05-13T21:00:29.308294",
     "exception": false,
     "start_time": "2025-05-13T21:00:29.298054",
     "status": "completed"
    },
    "tags": []
   },
   "source": [
    "# 5c.\n",
    "\n",
    "You know what to do: for the next function, fill in the body to match the English description in the docstring."
   ]
  },
  {
   "cell_type": "code",
   "execution_count": 17,
   "id": "1cfa80a4",
   "metadata": {
    "execution": {
     "iopub.execute_input": "2025-05-13T21:00:29.389322Z",
     "iopub.status.busy": "2025-05-13T21:00:29.388960Z",
     "iopub.status.idle": "2025-05-13T21:00:29.397927Z",
     "shell.execute_reply": "2025-05-13T21:00:29.397075Z"
    },
    "papermill": {
     "duration": 0.083418,
     "end_time": "2025-05-13T21:00:29.399356",
     "exception": false,
     "start_time": "2025-05-13T21:00:29.315938",
     "status": "completed"
    },
    "tags": []
   },
   "outputs": [
    {
     "data": {
      "application/javascript": [
       "parent.postMessage({\"jupyterEvent\": \"custom.exercise_interaction\", \"data\": {\"outcomeType\": 1, \"valueTowardsCompletion\": 0.2, \"interactionType\": 1, \"questionType\": 2, \"questionId\": \"5.3_OneSauce\", \"learnToolsVersion\": \"0.3.5\", \"failureMessage\": \"\", \"exceptionClass\": \"\", \"trace\": \"\"}}, \"*\")"
      ],
      "text/plain": [
       "<IPython.core.display.Javascript object>"
      ]
     },
     "metadata": {},
     "output_type": "display_data"
    },
    {
     "data": {
      "text/markdown": [
       "<span style=\"color:#33cc33\">Correct</span>"
      ],
      "text/plain": [
       "Correct"
      ]
     },
     "metadata": {},
     "output_type": "display_data"
    }
   ],
   "source": [
    "def exactly_one_sauce(ketchup, mustard, onion):\n",
    "    \"\"\"Return whether the customer wants either ketchup or mustard, but not both.\n",
    "    (You may be familiar with this operation under the name \"exclusive or\")\n",
    "    \"\"\"\n",
    "    return (ketchup and not mustard) or (mustard and not ketchup)\n",
    "    pass\n",
    "\n",
    "# Check your answer\n",
    "q5.c.check()"
   ]
  },
  {
   "cell_type": "code",
   "execution_count": 18,
   "id": "e0980260",
   "metadata": {
    "execution": {
     "iopub.execute_input": "2025-05-13T21:00:29.416807Z",
     "iopub.status.busy": "2025-05-13T21:00:29.416163Z",
     "iopub.status.idle": "2025-05-13T21:00:29.420520Z",
     "shell.execute_reply": "2025-05-13T21:00:29.419706Z"
    },
    "papermill": {
     "duration": 0.014785,
     "end_time": "2025-05-13T21:00:29.422131",
     "exception": false,
     "start_time": "2025-05-13T21:00:29.407346",
     "status": "completed"
    },
    "tags": []
   },
   "outputs": [],
   "source": [
    "#q5.c.hint()\n",
    "#q5.c.solution()"
   ]
  },
  {
   "cell_type": "markdown",
   "id": "3912b396",
   "metadata": {
    "papermill": {
     "duration": 0.010327,
     "end_time": "2025-05-13T21:00:29.447207",
     "exception": false,
     "start_time": "2025-05-13T21:00:29.436880",
     "status": "completed"
    },
    "tags": []
   },
   "source": [
    "# 6. <span title=\"A bit spicy\" style=\"color: darkgreen \">🌶️</span>\n",
    "\n",
    "We’ve seen that calling `bool()` on an integer returns `False` if it’s equal to 0 and `True` otherwise. What happens if we call `int()` on a bool? Try it out in the notebook cell below.\n",
    "\n",
    "Can you take advantage of this to write a succinct function that corresponds to the English sentence \"does the customer want exactly one topping?\"?"
   ]
  },
  {
   "cell_type": "code",
   "execution_count": 19,
   "id": "12ea27fc",
   "metadata": {
    "execution": {
     "iopub.execute_input": "2025-05-13T21:00:29.465327Z",
     "iopub.status.busy": "2025-05-13T21:00:29.465023Z",
     "iopub.status.idle": "2025-05-13T21:00:29.473149Z",
     "shell.execute_reply": "2025-05-13T21:00:29.472270Z"
    },
    "papermill": {
     "duration": 0.019469,
     "end_time": "2025-05-13T21:00:29.474768",
     "exception": false,
     "start_time": "2025-05-13T21:00:29.455299",
     "status": "completed"
    },
    "tags": []
   },
   "outputs": [
    {
     "data": {
      "application/javascript": [
       "parent.postMessage({\"jupyterEvent\": \"custom.exercise_interaction\", \"data\": {\"outcomeType\": 1, \"valueTowardsCompletion\": 0.2, \"interactionType\": 1, \"questionType\": 2, \"questionId\": \"6_OneTopping\", \"learnToolsVersion\": \"0.3.5\", \"failureMessage\": \"\", \"exceptionClass\": \"\", \"trace\": \"\"}}, \"*\")"
      ],
      "text/plain": [
       "<IPython.core.display.Javascript object>"
      ]
     },
     "metadata": {},
     "output_type": "display_data"
    },
    {
     "data": {
      "text/markdown": [
       "<span style=\"color:#33cc33\">Correct:</span> \n",
       "\n",
       "This condition would be pretty complicated to express using just `and`, `or` and `not`, but using boolean-to-integer conversion gives us this short solution:\n",
       "```python\n",
       "return (int(ketchup) + int(mustard) + int(onion)) == 1\n",
       "```\n",
       "\n",
       "Fun fact: we don't technically need to call `int` on the arguments. Just by doing addition with booleans, Python implicitly does the integer conversion. So we could also write...\n",
       "\n",
       "```python\n",
       "return (ketchup + mustard + onion) == 1\n",
       "```"
      ],
      "text/plain": [
       "Correct: \n",
       "\n",
       "This condition would be pretty complicated to express using just `and`, `or` and `not`, but using boolean-to-integer conversion gives us this short solution:\n",
       "```python\n",
       "return (int(ketchup) + int(mustard) + int(onion)) == 1\n",
       "```\n",
       "\n",
       "Fun fact: we don't technically need to call `int` on the arguments. Just by doing addition with booleans, Python implicitly does the integer conversion. So we could also write...\n",
       "\n",
       "```python\n",
       "return (ketchup + mustard + onion) == 1\n",
       "```"
      ]
     },
     "metadata": {},
     "output_type": "display_data"
    }
   ],
   "source": [
    "def exactly_one_topping(ketchup, mustard, onion):\n",
    "    \"\"\"Return whether the customer wants exactly one of the three available toppings\n",
    "    on their hot dog.\n",
    "    \"\"\"\n",
    "    return (ketchup and not mustard and not onion) or (mustard and not ketchup and not onion) or (onion and not ketchup and not mustard)\n",
    "    pass\n",
    "\n",
    "# Check your answer\n",
    "q6.check()"
   ]
  },
  {
   "cell_type": "code",
   "execution_count": 20,
   "id": "b21d0d25",
   "metadata": {
    "execution": {
     "iopub.execute_input": "2025-05-13T21:00:29.502219Z",
     "iopub.status.busy": "2025-05-13T21:00:29.501474Z",
     "iopub.status.idle": "2025-05-13T21:00:29.505434Z",
     "shell.execute_reply": "2025-05-13T21:00:29.504565Z"
    },
    "papermill": {
     "duration": 0.01729,
     "end_time": "2025-05-13T21:00:29.507093",
     "exception": false,
     "start_time": "2025-05-13T21:00:29.489803",
     "status": "completed"
    },
    "tags": []
   },
   "outputs": [],
   "source": [
    "#q6.hint()\n",
    "#q6.solution()"
   ]
  },
  {
   "cell_type": "markdown",
   "id": "8959147a",
   "metadata": {
    "papermill": {
     "duration": 0.010435,
     "end_time": "2025-05-13T21:00:29.532502",
     "exception": false,
     "start_time": "2025-05-13T21:00:29.522067",
     "status": "completed"
    },
    "tags": []
   },
   "source": [
    "# 7. <span title=\"A bit spicy\" style=\"color: darkgreen \">🌶️</span> (Optional)\n",
    "\n",
    "In this problem we'll be working with a simplified version of [blackjack](https://en.wikipedia.org/wiki/Blackjack) (aka twenty-one). In this version there is one player (who you'll control) and a dealer. Play proceeds as follows:\n",
    "\n",
    "- The player is dealt two face-up cards. The dealer is dealt one face-up card.\n",
    "- The player may ask to be dealt another card ('hit') as many times as they wish. If the sum of their cards exceeds 21, they lose the round immediately.\n",
    "- The dealer then deals additional cards to himself until either:\n",
    "    - the sum of the dealer's cards exceeds 21, in which case the player wins the round\n",
    "    - the sum of the dealer's cards is greater than or equal to 17. If the player's total is greater than the dealer's, the player wins. Otherwise, the dealer wins (even in case of a tie).\n",
    "    \n",
    "When calculating the sum of cards, Jack, Queen, and King count for 10. Aces can count as 1 or 11 (when referring to a player's \"total\" above, we mean the largest total that can be made without exceeding 21. So e.g. A+8 = 19, A+8+8 = 17)\n",
    "\n",
    "For this problem, you'll write a function representing the player's decision-making strategy in this game. We've provided a very unintelligent implementation below:"
   ]
  },
  {
   "cell_type": "code",
   "execution_count": 21,
   "id": "39124eb1",
   "metadata": {
    "execution": {
     "iopub.execute_input": "2025-05-13T21:00:29.549821Z",
     "iopub.status.busy": "2025-05-13T21:00:29.549502Z",
     "iopub.status.idle": "2025-05-13T21:00:29.554024Z",
     "shell.execute_reply": "2025-05-13T21:00:29.553205Z"
    },
    "papermill": {
     "duration": 0.015151,
     "end_time": "2025-05-13T21:00:29.555685",
     "exception": false,
     "start_time": "2025-05-13T21:00:29.540534",
     "status": "completed"
    },
    "tags": []
   },
   "outputs": [],
   "source": [
    "def should_hit(dealer_total, player_total, player_low_aces, player_high_aces):\n",
    "    \"\"\"Return True if the player should hit (request another card) given the current game\n",
    "    state, or False if the player should stay.\n",
    "    When calculating a hand's total value, we count aces as \"high\" (with value 11) if doing so\n",
    "    doesn't bring the total above 21, otherwise we count them as low (with value 1). \n",
    "    For example, if the player's hand is {A, A, A, 7}, we will count it as 11 + 1 + 1 + 7,\n",
    "    and therefore set player_total=20, player_low_aces=2, player_high_aces=1.\n",
    "    \"\"\"\n",
    "    return False"
   ]
  },
  {
   "cell_type": "markdown",
   "id": "7fb61ce7",
   "metadata": {
    "papermill": {
     "duration": 0.007892,
     "end_time": "2025-05-13T21:00:29.577528",
     "exception": false,
     "start_time": "2025-05-13T21:00:29.569636",
     "status": "completed"
    },
    "tags": []
   },
   "source": [
    "This very conservative agent *always* sticks with the hand of two cards that they're dealt.\n",
    "\n",
    "We'll be simulating games between your player agent and our own dealer agent by calling your function.\n",
    "\n",
    "Try running the function below to see an example of a simulated game:"
   ]
  },
  {
   "cell_type": "code",
   "execution_count": 22,
   "id": "fcfbf6e3",
   "metadata": {
    "execution": {
     "iopub.execute_input": "2025-05-13T21:00:29.595151Z",
     "iopub.status.busy": "2025-05-13T21:00:29.594298Z",
     "iopub.status.idle": "2025-05-13T21:00:29.599332Z",
     "shell.execute_reply": "2025-05-13T21:00:29.598436Z"
    },
    "papermill": {
     "duration": 0.015479,
     "end_time": "2025-05-13T21:00:29.600994",
     "exception": false,
     "start_time": "2025-05-13T21:00:29.585515",
     "status": "completed"
    },
    "tags": []
   },
   "outputs": [
    {
     "name": "stdout",
     "output_type": "stream",
     "text": [
      "Player starts with 6 and A (total = 17)\n",
      "Dealer starts with 8\n",
      "\n",
      "__Player's turn__\n",
      "Player stays\n",
      "\n",
      "__Dealer's turn__\n",
      "Dealer hits and receives 5. (total = 13)\n",
      "Dealer hits and receives 10. (total = 23)\n",
      "Dealer busts! Player wins.\n"
     ]
    }
   ],
   "source": [
    "q7.simulate_one_game()"
   ]
  },
  {
   "cell_type": "markdown",
   "id": "267d4512",
   "metadata": {
    "papermill": {
     "duration": 0.008493,
     "end_time": "2025-05-13T21:00:29.624666",
     "exception": false,
     "start_time": "2025-05-13T21:00:29.616173",
     "status": "completed"
    },
    "tags": []
   },
   "source": [
    "The real test of your agent's mettle is their average win rate over many games. Try calling the function below to simulate 50000 games of blackjack (it may take a couple seconds):"
   ]
  },
  {
   "cell_type": "code",
   "execution_count": 23,
   "id": "9ea63a31",
   "metadata": {
    "execution": {
     "iopub.execute_input": "2025-05-13T21:00:29.642300Z",
     "iopub.status.busy": "2025-05-13T21:00:29.642010Z",
     "iopub.status.idle": "2025-05-13T21:00:30.557068Z",
     "shell.execute_reply": "2025-05-13T21:00:30.556032Z"
    },
    "papermill": {
     "duration": 0.925702,
     "end_time": "2025-05-13T21:00:30.558638",
     "exception": false,
     "start_time": "2025-05-13T21:00:29.632936",
     "status": "completed"
    },
    "tags": []
   },
   "outputs": [
    {
     "name": "stdout",
     "output_type": "stream",
     "text": [
      "Player won 19185 out of 50000 games (win rate = 38.4%)\n"
     ]
    }
   ],
   "source": [
    "q7.simulate(n_games=50000)"
   ]
  },
  {
   "cell_type": "markdown",
   "id": "c797e8c2",
   "metadata": {
    "papermill": {
     "duration": 0.007982,
     "end_time": "2025-05-13T21:00:30.575279",
     "exception": false,
     "start_time": "2025-05-13T21:00:30.567297",
     "status": "completed"
    },
    "tags": []
   },
   "source": [
    "Our dumb agent that completely ignores the game state still manages to win shockingly often!\n",
    "\n",
    "Try adding some more smarts to the `should_hit` function and see how it affects the results."
   ]
  },
  {
   "cell_type": "code",
   "execution_count": 24,
   "id": "fae0dd82",
   "metadata": {
    "execution": {
     "iopub.execute_input": "2025-05-13T21:00:30.593310Z",
     "iopub.status.busy": "2025-05-13T21:00:30.593011Z",
     "iopub.status.idle": "2025-05-13T21:00:31.486067Z",
     "shell.execute_reply": "2025-05-13T21:00:31.485057Z"
    },
    "papermill": {
     "duration": 0.903939,
     "end_time": "2025-05-13T21:00:31.487484",
     "exception": false,
     "start_time": "2025-05-13T21:00:30.583545",
     "status": "completed"
    },
    "tags": []
   },
   "outputs": [
    {
     "name": "stdout",
     "output_type": "stream",
     "text": [
      "Player won 19004 out of 50000 games (win rate = 38.0%)\n"
     ]
    }
   ],
   "source": [
    "def should_hit(dealer_total, player_total, player_low_aces, player_high_aces):\n",
    "    \"\"\"Return True if the player should hit (request another card) given the current game\n",
    "    state, or False if the player should stay.\n",
    "    When calculating a hand's total value, we count aces as \"high\" (with value 11) if doing so\n",
    "    doesn't bring the total above 21, otherwise we count them as low (with value 1). \n",
    "    For example, if the player's hand is {A, A, A, 7}, we will count it as 11 + 1 + 1 + 7,\n",
    "    and therefore set player_total=20, player_low_aces=2, player_high_aces=1.\n",
    "    \"\"\"\n",
    "    return False\n",
    "\n",
    "q7.simulate(n_games=50000)"
   ]
  },
  {
   "cell_type": "markdown",
   "id": "3a07b16d",
   "metadata": {
    "papermill": {
     "duration": 0.008902,
     "end_time": "2025-05-13T21:00:31.505151",
     "exception": false,
     "start_time": "2025-05-13T21:00:31.496249",
     "status": "completed"
    },
    "tags": []
   },
   "source": [
    "# Keep Going\n",
    "\n",
    "Learn about **[lists and tuples](https://www.kaggle.com/colinmorris/lists)** to handle multiple items of data in a systematic way."
   ]
  },
  {
   "cell_type": "markdown",
   "id": "1e551c7a",
   "metadata": {
    "papermill": {
     "duration": 0.008381,
     "end_time": "2025-05-13T21:00:31.522525",
     "exception": false,
     "start_time": "2025-05-13T21:00:31.514144",
     "status": "completed"
    },
    "tags": []
   },
   "source": [
    "---\n",
    "\n",
    "\n",
    "\n",
    "\n",
    "*Have questions or comments? Visit the [course discussion forum](https://www.kaggle.com/learn/python/discussion) to chat with other learners.*"
   ]
  }
 ],
 "metadata": {
  "kaggle": {
   "accelerator": "none",
   "dataSources": [],
   "isGpuEnabled": false,
   "isInternetEnabled": false,
   "language": "python",
   "sourceType": "notebook"
  },
  "kernelspec": {
   "display_name": "Python 3",
   "language": "python",
   "name": "python3"
  },
  "language_info": {
   "codemirror_mode": {
    "name": "ipython",
    "version": 3
   },
   "file_extension": ".py",
   "mimetype": "text/x-python",
   "name": "python",
   "nbconvert_exporter": "python",
   "pygments_lexer": "ipython3",
   "version": "3.11.11"
  },
  "learntools_metadata": {
   "lesson_index": 2,
   "type": "exercise"
  },
  "papermill": {
   "default_parameters": {},
   "duration": 10.237972,
   "end_time": "2025-05-13T21:00:32.051606",
   "environment_variables": {},
   "exception": null,
   "input_path": "__notebook__.ipynb",
   "output_path": "__notebook__.ipynb",
   "parameters": {},
   "start_time": "2025-05-13T21:00:21.813634",
   "version": "2.6.0"
  }
 },
 "nbformat": 4,
 "nbformat_minor": 5
}
