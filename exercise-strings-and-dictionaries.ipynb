{
 "cells": [
  {
   "cell_type": "markdown",
   "id": "a9e6872c",
   "metadata": {
    "papermill": {
     "duration": 0.004646,
     "end_time": "2025-05-14T08:41:04.565999",
     "exception": false,
     "start_time": "2025-05-14T08:41:04.561353",
     "status": "completed"
    },
    "tags": []
   },
   "source": [
    "**This notebook is an exercise in the [Python](https://www.kaggle.com/learn/python) course.  You can reference the tutorial at [this link](https://www.kaggle.com/colinmorris/strings-and-dictionaries).**\n",
    "\n",
    "---\n"
   ]
  },
  {
   "cell_type": "markdown",
   "id": "5ea14120",
   "metadata": {
    "papermill": {
     "duration": 0.003554,
     "end_time": "2025-05-14T08:41:04.573643",
     "exception": false,
     "start_time": "2025-05-14T08:41:04.570089",
     "status": "completed"
    },
    "tags": []
   },
   "source": [
    "You are almost done with the course. Nice job!\n",
    "\n",
    "We have a couple more interesting problems for you before you go. \n",
    "\n",
    "As always, run the setup code below before working on the questions."
   ]
  },
  {
   "cell_type": "code",
   "execution_count": 1,
   "id": "a5c1ebc6",
   "metadata": {
    "execution": {
     "iopub.execute_input": "2025-05-14T08:41:04.582966Z",
     "iopub.status.busy": "2025-05-14T08:41:04.582562Z",
     "iopub.status.idle": "2025-05-14T08:41:06.505642Z",
     "shell.execute_reply": "2025-05-14T08:41:06.504609Z"
    },
    "papermill": {
     "duration": 1.929809,
     "end_time": "2025-05-14T08:41:06.507369",
     "exception": false,
     "start_time": "2025-05-14T08:41:04.577560",
     "status": "completed"
    },
    "tags": []
   },
   "outputs": [
    {
     "name": "stdout",
     "output_type": "stream",
     "text": [
      "Setup complete.\n"
     ]
    }
   ],
   "source": [
    "from learntools.core import binder; binder.bind(globals())\n",
    "from learntools.python.ex6 import *\n",
    "print('Setup complete.')"
   ]
  },
  {
   "cell_type": "markdown",
   "id": "67fd5bf3",
   "metadata": {
    "papermill": {
     "duration": 0.003817,
     "end_time": "2025-05-14T08:41:06.515325",
     "exception": false,
     "start_time": "2025-05-14T08:41:06.511508",
     "status": "completed"
    },
    "tags": []
   },
   "source": [
    "Let's start with a string lightning round to warm up. What are the lengths of the strings below?\n",
    "\n",
    "For each of the five strings below, predict what `len()` would return when passed that string. Use the variable `length` to record your answer, then run the cell to check whether you were right.  \n",
    "\n",
    "# 0a."
   ]
  },
  {
   "cell_type": "code",
   "execution_count": 2,
   "id": "732cd301",
   "metadata": {
    "execution": {
     "iopub.execute_input": "2025-05-14T08:41:06.524453Z",
     "iopub.status.busy": "2025-05-14T08:41:06.524024Z",
     "iopub.status.idle": "2025-05-14T08:41:06.532210Z",
     "shell.execute_reply": "2025-05-14T08:41:06.531216Z"
    },
    "papermill": {
     "duration": 0.014388,
     "end_time": "2025-05-14T08:41:06.533633",
     "exception": false,
     "start_time": "2025-05-14T08:41:06.519245",
     "status": "completed"
    },
    "tags": []
   },
   "outputs": [
    {
     "data": {
      "application/javascript": [
       "parent.postMessage({\"jupyterEvent\": \"custom.exercise_interaction\", \"data\": {\"outcomeType\": 1, \"valueTowardsCompletion\": 0.3333333333333333, \"interactionType\": 1, \"questionType\": 1, \"questionId\": \"0.1_ZA\", \"learnToolsVersion\": \"0.3.5\", \"failureMessage\": \"\", \"exceptionClass\": \"\", \"trace\": \"\"}}, \"*\")"
      ],
      "text/plain": [
       "<IPython.core.display.Javascript object>"
      ]
     },
     "metadata": {},
     "output_type": "display_data"
    },
    {
     "data": {
      "text/markdown": [
       "<span style=\"color:#33cc33\">Correct:</span> \n",
       "\n",
       "The empty string has length zero. Note that the empty string is also the only string that Python considers as False when converting to boolean."
      ],
      "text/plain": [
       "Correct: \n",
       "\n",
       "The empty string has length zero. Note that the empty string is also the only string that Python considers as False when converting to boolean."
      ]
     },
     "metadata": {},
     "output_type": "display_data"
    }
   ],
   "source": [
    "a = \"\"\n",
    "length = 0\n",
    "q0.a.check()"
   ]
  },
  {
   "cell_type": "markdown",
   "id": "7390f84b",
   "metadata": {
    "papermill": {
     "duration": 0.003923,
     "end_time": "2025-05-14T08:41:06.541914",
     "exception": false,
     "start_time": "2025-05-14T08:41:06.537991",
     "status": "completed"
    },
    "tags": []
   },
   "source": [
    "# 0b."
   ]
  },
  {
   "cell_type": "code",
   "execution_count": 3,
   "id": "979284c0",
   "metadata": {
    "execution": {
     "iopub.execute_input": "2025-05-14T08:41:06.551382Z",
     "iopub.status.busy": "2025-05-14T08:41:06.551105Z",
     "iopub.status.idle": "2025-05-14T08:41:06.558424Z",
     "shell.execute_reply": "2025-05-14T08:41:06.557692Z"
    },
    "papermill": {
     "duration": 0.013686,
     "end_time": "2025-05-14T08:41:06.559722",
     "exception": false,
     "start_time": "2025-05-14T08:41:06.546036",
     "status": "completed"
    },
    "tags": []
   },
   "outputs": [
    {
     "data": {
      "application/javascript": [
       "parent.postMessage({\"jupyterEvent\": \"custom.exercise_interaction\", \"data\": {\"outcomeType\": 1, \"valueTowardsCompletion\": 0.3333333333333333, \"interactionType\": 1, \"questionType\": 1, \"questionId\": \"0.2_ZB\", \"learnToolsVersion\": \"0.3.5\", \"failureMessage\": \"\", \"exceptionClass\": \"\", \"trace\": \"\"}}, \"*\")"
      ],
      "text/plain": [
       "<IPython.core.display.Javascript object>"
      ]
     },
     "metadata": {},
     "output_type": "display_data"
    },
    {
     "data": {
      "text/markdown": [
       "<span style=\"color:#33cc33\">Correct:</span> \n",
       "\n",
       "Keep in mind Python includes spaces (and punctuation) when counting string length."
      ],
      "text/plain": [
       "Correct: \n",
       "\n",
       "Keep in mind Python includes spaces (and punctuation) when counting string length."
      ]
     },
     "metadata": {},
     "output_type": "display_data"
    }
   ],
   "source": [
    "b = \"it's ok\"\n",
    "length = 7\n",
    "q0.b.check()"
   ]
  },
  {
   "cell_type": "markdown",
   "id": "3f7187db",
   "metadata": {
    "papermill": {
     "duration": 0.003972,
     "end_time": "2025-05-14T08:41:06.568105",
     "exception": false,
     "start_time": "2025-05-14T08:41:06.564133",
     "status": "completed"
    },
    "tags": []
   },
   "source": [
    "# 0c."
   ]
  },
  {
   "cell_type": "code",
   "execution_count": 4,
   "id": "c511046a",
   "metadata": {
    "execution": {
     "iopub.execute_input": "2025-05-14T08:41:06.578014Z",
     "iopub.status.busy": "2025-05-14T08:41:06.577676Z",
     "iopub.status.idle": "2025-05-14T08:41:06.584725Z",
     "shell.execute_reply": "2025-05-14T08:41:06.583897Z"
    },
    "papermill": {
     "duration": 0.013737,
     "end_time": "2025-05-14T08:41:06.586132",
     "exception": false,
     "start_time": "2025-05-14T08:41:06.572395",
     "status": "completed"
    },
    "tags": []
   },
   "outputs": [
    {
     "data": {
      "application/javascript": [
       "parent.postMessage({\"jupyterEvent\": \"custom.exercise_interaction\", \"data\": {\"outcomeType\": 1, \"valueTowardsCompletion\": 0.3333333333333333, \"interactionType\": 1, \"questionType\": 1, \"questionId\": \"0.3_ZC\", \"learnToolsVersion\": \"0.3.5\", \"failureMessage\": \"\", \"exceptionClass\": \"\", \"trace\": \"\"}}, \"*\")"
      ],
      "text/plain": [
       "<IPython.core.display.Javascript object>"
      ]
     },
     "metadata": {},
     "output_type": "display_data"
    },
    {
     "data": {
      "text/markdown": [
       "<span style=\"color:#33cc33\">Correct:</span> \n",
       "\n",
       "Even though we use different syntax to create it, the string `c` is identical to `b`. In particular, note that the backslash is not part of the string, so it doesn't contribute to its length."
      ],
      "text/plain": [
       "Correct: \n",
       "\n",
       "Even though we use different syntax to create it, the string `c` is identical to `b`. In particular, note that the backslash is not part of the string, so it doesn't contribute to its length."
      ]
     },
     "metadata": {},
     "output_type": "display_data"
    }
   ],
   "source": [
    "c = 'it\\'s ok'\n",
    "length = 7\n",
    "q0.c.check()"
   ]
  },
  {
   "cell_type": "markdown",
   "id": "4ad0d480",
   "metadata": {
    "papermill": {
     "duration": 0.005482,
     "end_time": "2025-05-14T08:41:06.596673",
     "exception": false,
     "start_time": "2025-05-14T08:41:06.591191",
     "status": "completed"
    },
    "tags": []
   },
   "source": [
    "# 0d."
   ]
  },
  {
   "cell_type": "code",
   "execution_count": 5,
   "id": "04497843",
   "metadata": {
    "execution": {
     "iopub.execute_input": "2025-05-14T08:41:06.607448Z",
     "iopub.status.busy": "2025-05-14T08:41:06.607147Z",
     "iopub.status.idle": "2025-05-14T08:41:06.614567Z",
     "shell.execute_reply": "2025-05-14T08:41:06.613654Z"
    },
    "papermill": {
     "duration": 0.014816,
     "end_time": "2025-05-14T08:41:06.616004",
     "exception": false,
     "start_time": "2025-05-14T08:41:06.601188",
     "status": "completed"
    },
    "tags": []
   },
   "outputs": [
    {
     "data": {
      "application/javascript": [
       "parent.postMessage({\"jupyterEvent\": \"custom.exercise_interaction\", \"data\": {\"outcomeType\": 1, \"valueTowardsCompletion\": 0.3333333333333333, \"interactionType\": 1, \"questionType\": 1, \"questionId\": \"0.4_ZD\", \"learnToolsVersion\": \"0.3.5\", \"failureMessage\": \"\", \"exceptionClass\": \"\", \"trace\": \"\"}}, \"*\")"
      ],
      "text/plain": [
       "<IPython.core.display.Javascript object>"
      ]
     },
     "metadata": {},
     "output_type": "display_data"
    },
    {
     "data": {
      "text/markdown": [
       "<span style=\"color:#33cc33\">Correct:</span> \n",
       "\n",
       "The fact that this string was created using triple-quote syntax doesn't make any difference in terms of its content or length. This string is exactly the same as `'hey'`."
      ],
      "text/plain": [
       "Correct: \n",
       "\n",
       "The fact that this string was created using triple-quote syntax doesn't make any difference in terms of its content or length. This string is exactly the same as `'hey'`."
      ]
     },
     "metadata": {},
     "output_type": "display_data"
    }
   ],
   "source": [
    "d = \"\"\"hey\"\"\"\n",
    "length = 3\n",
    "q0.d.check()"
   ]
  },
  {
   "cell_type": "markdown",
   "id": "8f3c710a",
   "metadata": {
    "papermill": {
     "duration": 0.00453,
     "end_time": "2025-05-14T08:41:06.625476",
     "exception": false,
     "start_time": "2025-05-14T08:41:06.620946",
     "status": "completed"
    },
    "tags": []
   },
   "source": [
    "# 0e."
   ]
  },
  {
   "cell_type": "code",
   "execution_count": 6,
   "id": "b8aaeb04",
   "metadata": {
    "execution": {
     "iopub.execute_input": "2025-05-14T08:41:06.635894Z",
     "iopub.status.busy": "2025-05-14T08:41:06.635607Z",
     "iopub.status.idle": "2025-05-14T08:41:06.642190Z",
     "shell.execute_reply": "2025-05-14T08:41:06.641398Z"
    },
    "papermill": {
     "duration": 0.013328,
     "end_time": "2025-05-14T08:41:06.643487",
     "exception": false,
     "start_time": "2025-05-14T08:41:06.630159",
     "status": "completed"
    },
    "tags": []
   },
   "outputs": [
    {
     "data": {
      "application/javascript": [
       "parent.postMessage({\"jupyterEvent\": \"custom.exercise_interaction\", \"data\": {\"outcomeType\": 1, \"valueTowardsCompletion\": 0.3333333333333333, \"interactionType\": 1, \"questionType\": 1, \"questionId\": \"0.5_ZE\", \"learnToolsVersion\": \"0.3.5\", \"failureMessage\": \"\", \"exceptionClass\": \"\", \"trace\": \"\"}}, \"*\")"
      ],
      "text/plain": [
       "<IPython.core.display.Javascript object>"
      ]
     },
     "metadata": {},
     "output_type": "display_data"
    },
    {
     "data": {
      "text/markdown": [
       "<span style=\"color:#33cc33\">Correct:</span> \n",
       "\n",
       "The newline character is just a single character! (Even though we represent it to Python using a combination of two characters.)"
      ],
      "text/plain": [
       "Correct: \n",
       "\n",
       "The newline character is just a single character! (Even though we represent it to Python using a combination of two characters.)"
      ]
     },
     "metadata": {},
     "output_type": "display_data"
    }
   ],
   "source": [
    "e = '\\n'\n",
    "length = 1\n",
    "q0.e.check()"
   ]
  },
  {
   "cell_type": "markdown",
   "id": "0c579640",
   "metadata": {
    "papermill": {
     "duration": 0.00543,
     "end_time": "2025-05-14T08:41:06.653783",
     "exception": false,
     "start_time": "2025-05-14T08:41:06.648353",
     "status": "completed"
    },
    "tags": []
   },
   "source": [
    "# 1.\n",
    "\n",
    "There is a saying that \"Data scientists spend 80% of their time cleaning data, and 20% of their time complaining about cleaning data.\" Let's see if you can write a function to help clean US zip code data. Given a string, it should return whether or not that string represents a valid zip code. For our purposes, a valid zip code is any string consisting of exactly 5 digits.\n",
    "\n",
    "HINT: `str` has a method that will be useful here. Use `help(str)` to review a list of string methods."
   ]
  },
  {
   "cell_type": "code",
   "execution_count": 7,
   "id": "ef746197",
   "metadata": {
    "execution": {
     "iopub.execute_input": "2025-05-14T08:41:06.664609Z",
     "iopub.status.busy": "2025-05-14T08:41:06.664327Z",
     "iopub.status.idle": "2025-05-14T08:41:06.671551Z",
     "shell.execute_reply": "2025-05-14T08:41:06.670816Z"
    },
    "papermill": {
     "duration": 0.014203,
     "end_time": "2025-05-14T08:41:06.672795",
     "exception": false,
     "start_time": "2025-05-14T08:41:06.658592",
     "status": "completed"
    },
    "tags": []
   },
   "outputs": [
    {
     "data": {
      "application/javascript": [
       "parent.postMessage({\"jupyterEvent\": \"custom.exercise_interaction\", \"data\": {\"outcomeType\": 1, \"valueTowardsCompletion\": 0.3333333333333333, \"interactionType\": 1, \"questionType\": 2, \"questionId\": \"1_ZipValidator\", \"learnToolsVersion\": \"0.3.5\", \"failureMessage\": \"\", \"exceptionClass\": \"\", \"trace\": \"\"}}, \"*\")"
      ],
      "text/plain": [
       "<IPython.core.display.Javascript object>"
      ]
     },
     "metadata": {},
     "output_type": "display_data"
    },
    {
     "data": {
      "text/markdown": [
       "<span style=\"color:#33cc33\">Correct</span>"
      ],
      "text/plain": [
       "Correct"
      ]
     },
     "metadata": {},
     "output_type": "display_data"
    }
   ],
   "source": [
    "def is_valid_zip(zip_code):\n",
    "    \"\"\"Returns whether the input string is a valid (5 digit) zip code\n",
    "    \"\"\"\n",
    "    return len(zip_code) == 5 and zip_code.isdigit()\n",
    "    pass\n",
    "\n",
    "# Check your answer\n",
    "q1.check()"
   ]
  },
  {
   "cell_type": "code",
   "execution_count": 8,
   "id": "537d1f83",
   "metadata": {
    "execution": {
     "iopub.execute_input": "2025-05-14T08:41:06.684031Z",
     "iopub.status.busy": "2025-05-14T08:41:06.683707Z",
     "iopub.status.idle": "2025-05-14T08:41:06.687807Z",
     "shell.execute_reply": "2025-05-14T08:41:06.686931Z"
    },
    "papermill": {
     "duration": 0.011566,
     "end_time": "2025-05-14T08:41:06.689342",
     "exception": false,
     "start_time": "2025-05-14T08:41:06.677776",
     "status": "completed"
    },
    "tags": []
   },
   "outputs": [],
   "source": [
    "#q1.hint()\n",
    "#q1.solution()"
   ]
  },
  {
   "cell_type": "markdown",
   "id": "3efdf601",
   "metadata": {
    "papermill": {
     "duration": 0.004775,
     "end_time": "2025-05-14T08:41:06.699280",
     "exception": false,
     "start_time": "2025-05-14T08:41:06.694505",
     "status": "completed"
    },
    "tags": []
   },
   "source": [
    "# 2.\n",
    "\n",
    "A researcher has gathered thousands of news articles. But she wants to focus her attention on articles including a specific word. Complete the function below to help her filter her list of articles.\n",
    "\n",
    "Your function should meet the following criteria:\n",
    "\n",
    "- Do not include documents where the keyword string shows up only as a part of a larger word. For example, if she were looking for the keyword “closed”, you would not include the string “enclosed.” \n",
    "- She does not want you to distinguish upper case from lower case letters. So the phrase “Closed the case.” would be included when the keyword is “closed”\n",
    "- Do not let periods or commas affect what is matched. “It is closed.” would be included when the keyword is “closed”. But you can assume there are no other types of punctuation."
   ]
  },
  {
   "cell_type": "code",
   "execution_count": 9,
   "id": "b1b61a6e",
   "metadata": {
    "execution": {
     "iopub.execute_input": "2025-05-14T08:41:06.711152Z",
     "iopub.status.busy": "2025-05-14T08:41:06.710296Z",
     "iopub.status.idle": "2025-05-14T08:41:06.718682Z",
     "shell.execute_reply": "2025-05-14T08:41:06.717865Z"
    },
    "papermill": {
     "duration": 0.015948,
     "end_time": "2025-05-14T08:41:06.720186",
     "exception": false,
     "start_time": "2025-05-14T08:41:06.704238",
     "status": "completed"
    },
    "tags": []
   },
   "outputs": [
    {
     "data": {
      "application/javascript": [
       "parent.postMessage({\"jupyterEvent\": \"custom.exercise_interaction\", \"data\": {\"outcomeType\": 1, \"valueTowardsCompletion\": 0.3333333333333333, \"interactionType\": 1, \"questionType\": 2, \"questionId\": \"2_WordSearch\", \"learnToolsVersion\": \"0.3.5\", \"failureMessage\": \"\", \"exceptionClass\": \"\", \"trace\": \"\"}}, \"*\")"
      ],
      "text/plain": [
       "<IPython.core.display.Javascript object>"
      ]
     },
     "metadata": {},
     "output_type": "display_data"
    },
    {
     "data": {
      "text/markdown": [
       "<span style=\"color:#33cc33\">Correct</span>"
      ],
      "text/plain": [
       "Correct"
      ]
     },
     "metadata": {},
     "output_type": "display_data"
    }
   ],
   "source": [
    "def word_search(doc_list, keyword):\n",
    "    \"\"\"\n",
    "    Takes a list of documents (each document is a string) and a keyword. \n",
    "    Returns list of the index values into the original list for all documents \n",
    "    containing the keyword.\n",
    "\n",
    "    Example:\n",
    "    doc_list = [\"The Learn Python Challenge Casino.\", \"They bought a car\", \"Casinoville\"]\n",
    "    >>> word_search(doc_list, 'casino')\n",
    "    >>> [0]\n",
    "    \"\"\"\n",
    "    result_indices = []\n",
    "    keyword = keyword.lower()\n",
    "    for i, doc in enumerate(doc_list):\n",
    "        doc = doc.lower().replace('.', '').replace(',', '')\n",
    "        words = doc.split()\n",
    "        if keyword in words:\n",
    "            result_indices.append(i)\n",
    "    return result_indices\n",
    "    pass\n",
    "\n",
    "# Check your answer\n",
    "q2.check()"
   ]
  },
  {
   "cell_type": "code",
   "execution_count": 10,
   "id": "e621def2",
   "metadata": {
    "execution": {
     "iopub.execute_input": "2025-05-14T08:41:06.732613Z",
     "iopub.status.busy": "2025-05-14T08:41:06.731808Z",
     "iopub.status.idle": "2025-05-14T08:41:06.735534Z",
     "shell.execute_reply": "2025-05-14T08:41:06.734818Z"
    },
    "papermill": {
     "duration": 0.011328,
     "end_time": "2025-05-14T08:41:06.736996",
     "exception": false,
     "start_time": "2025-05-14T08:41:06.725668",
     "status": "completed"
    },
    "tags": []
   },
   "outputs": [],
   "source": [
    "#q2.hint()\n",
    "#q2.solution()"
   ]
  },
  {
   "cell_type": "markdown",
   "id": "bdcb8fc7",
   "metadata": {
    "papermill": {
     "duration": 0.005006,
     "end_time": "2025-05-14T08:41:06.747246",
     "exception": false,
     "start_time": "2025-05-14T08:41:06.742240",
     "status": "completed"
    },
    "tags": []
   },
   "source": [
    "# 3.\n",
    "\n",
    "Now the researcher wants to supply multiple keywords to search for. Complete the function below to help her.\n",
    "\n",
    "(You're encouraged to use the `word_search` function you just wrote when implementing this function. Reusing code in this way makes your programs more robust and readable - and it saves typing!)"
   ]
  },
  {
   "cell_type": "code",
   "execution_count": 11,
   "id": "a5156c36",
   "metadata": {
    "execution": {
     "iopub.execute_input": "2025-05-14T08:41:06.759075Z",
     "iopub.status.busy": "2025-05-14T08:41:06.758433Z",
     "iopub.status.idle": "2025-05-14T08:41:06.766590Z",
     "shell.execute_reply": "2025-05-14T08:41:06.765669Z"
    },
    "papermill": {
     "duration": 0.015634,
     "end_time": "2025-05-14T08:41:06.768091",
     "exception": false,
     "start_time": "2025-05-14T08:41:06.752457",
     "status": "completed"
    },
    "tags": []
   },
   "outputs": [
    {
     "data": {
      "application/javascript": [
       "parent.postMessage({\"jupyterEvent\": \"custom.exercise_interaction\", \"data\": {\"outcomeType\": 1, \"valueTowardsCompletion\": 0.3333333333333333, \"interactionType\": 1, \"questionType\": 2, \"questionId\": \"3_MultiWordSearch\", \"learnToolsVersion\": \"0.3.5\", \"failureMessage\": \"\", \"exceptionClass\": \"\", \"trace\": \"\"}}, \"*\")"
      ],
      "text/plain": [
       "<IPython.core.display.Javascript object>"
      ]
     },
     "metadata": {},
     "output_type": "display_data"
    },
    {
     "data": {
      "text/markdown": [
       "<span style=\"color:#33cc33\">Correct</span>"
      ],
      "text/plain": [
       "Correct"
      ]
     },
     "metadata": {},
     "output_type": "display_data"
    }
   ],
   "source": [
    "def multi_word_search(doc_list, keywords):\n",
    "    \"\"\"\n",
    "    Takes list of documents (each document is a string) and a list of keywords.  \n",
    "    Returns a dictionary where each key is a keyword, and the value is a list of indices\n",
    "    (from doc_list) of the documents containing that keyword\n",
    "\n",
    "    >>> doc_list = [\"The Learn Python Challenge Casino.\", \"They bought a car and a casino\", \"Casinoville\"]\n",
    "    >>> keywords = ['casino', 'they']\n",
    "    >>> multi_word_search(doc_list, keywords)\n",
    "    {'casino': [0, 1], 'they': [1]}\n",
    "    \"\"\"\n",
    "    keyword_to_indices = {}\n",
    "\n",
    "    for keyword in keywords:\n",
    "        keyword_to_indices[keyword] = word_search(doc_list, keyword)\n",
    "\n",
    "    return keyword_to_indices\n",
    "    pass\n",
    "\n",
    "# Check your answer\n",
    "q3.check()"
   ]
  },
  {
   "cell_type": "code",
   "execution_count": 12,
   "id": "04bad595",
   "metadata": {
    "execution": {
     "iopub.execute_input": "2025-05-14T08:41:06.781019Z",
     "iopub.status.busy": "2025-05-14T08:41:06.780453Z",
     "iopub.status.idle": "2025-05-14T08:41:06.784261Z",
     "shell.execute_reply": "2025-05-14T08:41:06.783465Z"
    },
    "papermill": {
     "duration": 0.012251,
     "end_time": "2025-05-14T08:41:06.785713",
     "exception": false,
     "start_time": "2025-05-14T08:41:06.773462",
     "status": "completed"
    },
    "tags": []
   },
   "outputs": [],
   "source": [
    "#q3.solution()"
   ]
  },
  {
   "cell_type": "markdown",
   "id": "aafcd00c",
   "metadata": {
    "papermill": {
     "duration": 0.005088,
     "end_time": "2025-05-14T08:41:06.796373",
     "exception": false,
     "start_time": "2025-05-14T08:41:06.791285",
     "status": "completed"
    },
    "tags": []
   },
   "source": [
    "# Keep Going\n",
    "\n",
    "You've learned a lot. But even the best programmers rely heavily on \"libraries\" of code from other programmers. You'll learn about that in **[the last lesson](https://www.kaggle.com/colinmorris/working-with-external-libraries)**.\n"
   ]
  },
  {
   "cell_type": "markdown",
   "id": "a9e5ea1d",
   "metadata": {
    "papermill": {
     "duration": 0.005254,
     "end_time": "2025-05-14T08:41:06.806981",
     "exception": false,
     "start_time": "2025-05-14T08:41:06.801727",
     "status": "completed"
    },
    "tags": []
   },
   "source": [
    "---\n",
    "\n",
    "\n",
    "\n",
    "\n",
    "*Have questions or comments? Visit the [course discussion forum](https://www.kaggle.com/learn/python/discussion) to chat with other learners.*"
   ]
  }
 ],
 "metadata": {
  "kaggle": {
   "accelerator": "none",
   "dataSources": [],
   "isGpuEnabled": false,
   "isInternetEnabled": false,
   "language": "python",
   "sourceType": "notebook"
  },
  "kernelspec": {
   "display_name": "Python 3",
   "language": "python",
   "name": "python3"
  },
  "language_info": {
   "codemirror_mode": {
    "name": "ipython",
    "version": 3
   },
   "file_extension": ".py",
   "mimetype": "text/x-python",
   "name": "python",
   "nbconvert_exporter": "python",
   "pygments_lexer": "ipython3",
   "version": "3.11.11"
  },
  "learntools_metadata": {
   "lesson_index": 5,
   "type": "exercise"
  },
  "papermill": {
   "default_parameters": {},
   "duration": 7.625392,
   "end_time": "2025-05-14T08:41:07.331914",
   "environment_variables": {},
   "exception": null,
   "input_path": "__notebook__.ipynb",
   "output_path": "__notebook__.ipynb",
   "parameters": {},
   "start_time": "2025-05-14T08:40:59.706522",
   "version": "2.6.0"
  }
 },
 "nbformat": 4,
 "nbformat_minor": 5
}
