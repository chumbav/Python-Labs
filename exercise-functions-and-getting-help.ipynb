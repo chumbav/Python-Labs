{
 "cells": [
  {
   "cell_type": "markdown",
   "id": "8dca18d6",
   "metadata": {
    "papermill": {
     "duration": 0.004029,
     "end_time": "2025-04-29T19:25:19.280114",
     "exception": false,
     "start_time": "2025-04-29T19:25:19.276085",
     "status": "completed"
    },
    "tags": []
   },
   "source": [
    "**This notebook is an exercise in the [Python](https://www.kaggle.com/learn/python) course.  You can reference the tutorial at [this link](https://www.kaggle.com/colinmorris/functions-and-getting-help).**\n",
    "\n",
    "---\n"
   ]
  },
  {
   "cell_type": "markdown",
   "id": "1df5f891",
   "metadata": {
    "papermill": {
     "duration": 0.002921,
     "end_time": "2025-04-29T19:25:19.286392",
     "exception": false,
     "start_time": "2025-04-29T19:25:19.283471",
     "status": "completed"
    },
    "tags": []
   },
   "source": [
    "Functions are powerful. Try writing some yourself.\n",
    "\n",
    "As before, don't forget to run the setup code below before jumping into question 1."
   ]
  },
  {
   "cell_type": "code",
   "execution_count": 1,
   "id": "c11062f5",
   "metadata": {
    "_kg_hide-input": true,
    "_kg_hide-output": true,
    "execution": {
     "iopub.execute_input": "2025-04-29T19:25:19.294126Z",
     "iopub.status.busy": "2025-04-29T19:25:19.293715Z",
     "iopub.status.idle": "2025-04-29T19:25:21.219273Z",
     "shell.execute_reply": "2025-04-29T19:25:21.218313Z"
    },
    "papermill": {
     "duration": 1.931269,
     "end_time": "2025-04-29T19:25:21.220800",
     "exception": false,
     "start_time": "2025-04-29T19:25:19.289531",
     "status": "completed"
    },
    "tags": []
   },
   "outputs": [
    {
     "name": "stdout",
     "output_type": "stream",
     "text": [
      "Setup complete.\n"
     ]
    }
   ],
   "source": [
    "# SETUP. You don't need to worry for now about what this code does or how it works.\n",
    "from learntools.core import binder; binder.bind(globals())\n",
    "from learntools.python.ex2 import *\n",
    "print('Setup complete.')"
   ]
  },
  {
   "cell_type": "markdown",
   "id": "eb382efe",
   "metadata": {
    "papermill": {
     "duration": 0.003212,
     "end_time": "2025-04-29T19:25:21.227705",
     "exception": false,
     "start_time": "2025-04-29T19:25:21.224493",
     "status": "completed"
    },
    "tags": []
   },
   "source": [
    "# 1.\n",
    "\n",
    "Complete the body of the following function according to its docstring.\n",
    "\n",
    "HINT: Python has a built-in function `round`."
   ]
  },
  {
   "cell_type": "code",
   "execution_count": 2,
   "id": "799e72ba",
   "metadata": {
    "execution": {
     "iopub.execute_input": "2025-04-29T19:25:21.235680Z",
     "iopub.status.busy": "2025-04-29T19:25:21.235304Z",
     "iopub.status.idle": "2025-04-29T19:25:21.243573Z",
     "shell.execute_reply": "2025-04-29T19:25:21.242899Z"
    },
    "papermill": {
     "duration": 0.013547,
     "end_time": "2025-04-29T19:25:21.244735",
     "exception": false,
     "start_time": "2025-04-29T19:25:21.231188",
     "status": "completed"
    },
    "tags": []
   },
   "outputs": [
    {
     "data": {
      "application/javascript": [
       "parent.postMessage({\"jupyterEvent\": \"custom.exercise_interaction\", \"data\": {\"outcomeType\": 1, \"valueTowardsCompletion\": 0.16666666666666666, \"interactionType\": 1, \"questionType\": 2, \"questionId\": \"1_RoundFunctionProblem\", \"learnToolsVersion\": \"0.3.5\", \"failureMessage\": \"\", \"exceptionClass\": \"\", \"trace\": \"\"}}, \"*\")"
      ],
      "text/plain": [
       "<IPython.core.display.Javascript object>"
      ]
     },
     "metadata": {},
     "output_type": "display_data"
    },
    {
     "data": {
      "text/markdown": [
       "<span style=\"color:#33cc33\">Correct</span>"
      ],
      "text/plain": [
       "Correct"
      ]
     },
     "metadata": {},
     "output_type": "display_data"
    }
   ],
   "source": [
    "def round_to_two_places(num, ndigits=2):\n",
    "    \"\"\"Return the given number rounded to two decimal places. \n",
    "    \n",
    "    >>> round_to_two_places(3.14159)\n",
    "    3.14\n",
    "    \"\"\"\n",
    "    # Replace this body with your own code.\n",
    "    # (\"pass\" is a keyword that does literally nothing. We used it as a placeholder\n",
    "    # because after we begin a code block, Python requires at least one line of code)\n",
    "    return(round(num, ndigits))\n",
    "    pass\n",
    "\n",
    "# Check your answer\n",
    "q1.check()"
   ]
  },
  {
   "cell_type": "code",
   "execution_count": 3,
   "id": "506f78aa",
   "metadata": {
    "execution": {
     "iopub.execute_input": "2025-04-29T19:25:21.253324Z",
     "iopub.status.busy": "2025-04-29T19:25:21.253054Z",
     "iopub.status.idle": "2025-04-29T19:25:21.259853Z",
     "shell.execute_reply": "2025-04-29T19:25:21.259083Z"
    },
    "papermill": {
     "duration": 0.012793,
     "end_time": "2025-04-29T19:25:21.261290",
     "exception": false,
     "start_time": "2025-04-29T19:25:21.248497",
     "status": "completed"
    },
    "tags": []
   },
   "outputs": [
    {
     "data": {
      "application/javascript": [
       "parent.postMessage({\"jupyterEvent\": \"custom.exercise_interaction\", \"data\": {\"interactionType\": 2, \"questionType\": 2, \"questionId\": \"1_RoundFunctionProblem\", \"learnToolsVersion\": \"0.3.5\", \"valueTowardsCompletion\": 0.0, \"failureMessage\": \"\", \"exceptionClass\": \"\", \"trace\": \"\", \"outcomeType\": 4}}, \"*\")"
      ],
      "text/plain": [
       "<IPython.core.display.Javascript object>"
      ]
     },
     "metadata": {},
     "output_type": "display_data"
    },
    {
     "data": {
      "text/markdown": [
       "<span style=\"color:#3366cc\">Hint:</span> Run `help(round)` in the console (or in a code cell) to learn more about the round function. You'll need to use the function's optional second argument."
      ],
      "text/plain": [
       "Hint: Run `help(round)` in the console (or in a code cell) to learn more about the round function. You'll need to use the function's optional second argument."
      ]
     },
     "metadata": {},
     "output_type": "display_data"
    }
   ],
   "source": [
    "# Uncomment the following for a hint\n",
    "q1.hint()\n",
    "# Or uncomment the following to peek at the solution\n",
    "#q1.solution()"
   ]
  },
  {
   "cell_type": "markdown",
   "id": "b9c9efaa",
   "metadata": {
    "papermill": {
     "duration": 0.003517,
     "end_time": "2025-04-29T19:25:21.268808",
     "exception": false,
     "start_time": "2025-04-29T19:25:21.265291",
     "status": "completed"
    },
    "tags": []
   },
   "source": [
    "# 2.\n",
    "The help for `round` says that `ndigits` (the second argument) may be negative.\n",
    "What do you think will happen when it is? Try some examples in the following cell."
   ]
  },
  {
   "cell_type": "code",
   "execution_count": 4,
   "id": "e30ee7f2",
   "metadata": {
    "execution": {
     "iopub.execute_input": "2025-04-29T19:25:21.277919Z",
     "iopub.status.busy": "2025-04-29T19:25:21.277284Z",
     "iopub.status.idle": "2025-04-29T19:25:21.281429Z",
     "shell.execute_reply": "2025-04-29T19:25:21.280664Z"
    },
    "papermill": {
     "duration": 0.010247,
     "end_time": "2025-04-29T19:25:21.282868",
     "exception": false,
     "start_time": "2025-04-29T19:25:21.272621",
     "status": "completed"
    },
    "tags": []
   },
   "outputs": [],
   "source": [
    "# Put your test code here\n",
    "def round_to_two_places(number, ndigits=-2):\n",
    "    return(round(number, ndigits))"
   ]
  },
  {
   "cell_type": "markdown",
   "id": "5122bf93",
   "metadata": {
    "papermill": {
     "duration": 0.003624,
     "end_time": "2025-04-29T19:25:21.290392",
     "exception": false,
     "start_time": "2025-04-29T19:25:21.286768",
     "status": "completed"
    },
    "tags": []
   },
   "source": [
    "Can you think of a case where this would be useful?  Once you're ready, run the code cell below to see the answer and to receive credit for completing the problem."
   ]
  },
  {
   "cell_type": "code",
   "execution_count": 5,
   "id": "584f1c74",
   "metadata": {
    "execution": {
     "iopub.execute_input": "2025-04-29T19:25:21.298657Z",
     "iopub.status.busy": "2025-04-29T19:25:21.298401Z",
     "iopub.status.idle": "2025-04-29T19:25:21.305323Z",
     "shell.execute_reply": "2025-04-29T19:25:21.304632Z"
    },
    "papermill": {
     "duration": 0.012506,
     "end_time": "2025-04-29T19:25:21.306524",
     "exception": false,
     "start_time": "2025-04-29T19:25:21.294018",
     "status": "completed"
    },
    "tags": []
   },
   "outputs": [
    {
     "data": {
      "application/javascript": [
       "parent.postMessage({\"jupyterEvent\": \"custom.exercise_interaction\", \"data\": {\"interactionType\": 3, \"questionType\": 4, \"questionId\": \"2_RoundNdigitsProblem\", \"learnToolsVersion\": \"0.3.5\", \"valueTowardsCompletion\": 0.0, \"failureMessage\": \"\", \"exceptionClass\": \"\", \"trace\": \"\", \"outcomeType\": 4}}, \"*\")"
      ],
      "text/plain": [
       "<IPython.core.display.Javascript object>"
      ]
     },
     "metadata": {},
     "output_type": "display_data"
    },
    {
     "data": {
      "text/markdown": [
       "<span style=\"color:#33cc99\">Solution:</span> As you've seen, `ndigits=-1` rounds to the nearest 10, `ndigits=-2` rounds to the nearest 100 and so on. Where might this be useful? Suppose we're dealing with large numbers:\n",
       "\n",
       "> The area of Finland is 338,424 km²  \n",
       "> The area of Greenland is 2,166,086 km²\n",
       "\n",
       "We probably don't care whether it's really 338,424, or 338,425, or 338,177. All those digits of accuracy are just distracting. We can chop them off by calling `round()` with `ndigits=-3`:\n",
       "\n",
       "> The area of Finland is 338,000 km²  \n",
       "> The area of Greenland is 2,166,000 km²\n",
       "\n",
       "(We'll talk about how we would get the commas later when we talk about string formatting :))\n"
      ],
      "text/plain": [
       "Solution: As you've seen, `ndigits=-1` rounds to the nearest 10, `ndigits=-2` rounds to the nearest 100 and so on. Where might this be useful? Suppose we're dealing with large numbers:\n",
       "\n",
       "> The area of Finland is 338,424 km²  \n",
       "> The area of Greenland is 2,166,086 km²\n",
       "\n",
       "We probably don't care whether it's really 338,424, or 338,425, or 338,177. All those digits of accuracy are just distracting. We can chop them off by calling `round()` with `ndigits=-3`:\n",
       "\n",
       "> The area of Finland is 338,000 km²  \n",
       "> The area of Greenland is 2,166,000 km²\n",
       "\n",
       "(We'll talk about how we would get the commas later when we talk about string formatting :))"
      ]
     },
     "metadata": {},
     "output_type": "display_data"
    }
   ],
   "source": [
    "# Check your answer (Run this code cell to receive credit!)\n",
    "q2.solution()"
   ]
  },
  {
   "cell_type": "markdown",
   "id": "6fe1bfd0",
   "metadata": {
    "papermill": {
     "duration": 0.003651,
     "end_time": "2025-04-29T19:25:21.314245",
     "exception": false,
     "start_time": "2025-04-29T19:25:21.310594",
     "status": "completed"
    },
    "tags": []
   },
   "source": [
    "# 3.\n",
    "\n",
    "In the previous exercise, the candy-sharing friends Alice, Bob and Carol tried to split candies evenly. For the sake of their friendship, any candies left over would be smashed. For example, if they collectively bring home 91 candies, they'll take 30 each and smash 1.\n",
    "\n",
    "Below is a simple function that will calculate the number of candies to smash for *any* number of total candies.\n",
    "\n",
    "Modify it so that it optionally takes a second argument representing the number of friends the candies are being split between. If no second argument is provided, it should assume 3 friends, as before.\n",
    "\n",
    "Update the docstring to reflect this new behaviour."
   ]
  },
  {
   "cell_type": "code",
   "execution_count": 6,
   "id": "53e03c11",
   "metadata": {
    "execution": {
     "iopub.execute_input": "2025-04-29T19:25:21.323609Z",
     "iopub.status.busy": "2025-04-29T19:25:21.322597Z",
     "iopub.status.idle": "2025-04-29T19:25:21.329987Z",
     "shell.execute_reply": "2025-04-29T19:25:21.329183Z"
    },
    "papermill": {
     "duration": 0.013453,
     "end_time": "2025-04-29T19:25:21.331455",
     "exception": false,
     "start_time": "2025-04-29T19:25:21.318002",
     "status": "completed"
    },
    "tags": []
   },
   "outputs": [
    {
     "data": {
      "application/javascript": [
       "parent.postMessage({\"jupyterEvent\": \"custom.exercise_interaction\", \"data\": {\"outcomeType\": 1, \"valueTowardsCompletion\": 0.16666666666666666, \"interactionType\": 1, \"questionType\": 2, \"questionId\": \"3_CandySmashingFunctionProblem\", \"learnToolsVersion\": \"0.3.5\", \"failureMessage\": \"\", \"exceptionClass\": \"\", \"trace\": \"\"}}, \"*\")"
      ],
      "text/plain": [
       "<IPython.core.display.Javascript object>"
      ]
     },
     "metadata": {},
     "output_type": "display_data"
    },
    {
     "data": {
      "text/markdown": [
       "<span style=\"color:#33cc33\">Correct</span>"
      ],
      "text/plain": [
       "Correct"
      ]
     },
     "metadata": {},
     "output_type": "display_data"
    }
   ],
   "source": [
    "def to_smash(total_candies, ndigits=3 ):\n",
    "    \"\"\"Return the number of leftover candies that must be smashed after distributing\n",
    "    the given number of candies evenly between 3 friends.\n",
    "    \n",
    "    >>> to_smash(91)\n",
    "    1\n",
    "    \"\"\"\n",
    "    return total_candies % ndigits\n",
    "\n",
    "# Check your answer\n",
    "q3.check()"
   ]
  },
  {
   "cell_type": "code",
   "execution_count": 7,
   "id": "9e41fa13",
   "metadata": {
    "execution": {
     "iopub.execute_input": "2025-04-29T19:25:21.341876Z",
     "iopub.status.busy": "2025-04-29T19:25:21.341517Z",
     "iopub.status.idle": "2025-04-29T19:25:21.345458Z",
     "shell.execute_reply": "2025-04-29T19:25:21.344733Z"
    },
    "papermill": {
     "duration": 0.010102,
     "end_time": "2025-04-29T19:25:21.346737",
     "exception": false,
     "start_time": "2025-04-29T19:25:21.336635",
     "status": "completed"
    },
    "tags": []
   },
   "outputs": [],
   "source": [
    "#q3.hint()"
   ]
  },
  {
   "cell_type": "code",
   "execution_count": 8,
   "id": "327183c4",
   "metadata": {
    "execution": {
     "iopub.execute_input": "2025-04-29T19:25:21.356610Z",
     "iopub.status.busy": "2025-04-29T19:25:21.355867Z",
     "iopub.status.idle": "2025-04-29T19:25:21.359952Z",
     "shell.execute_reply": "2025-04-29T19:25:21.359239Z"
    },
    "papermill": {
     "duration": 0.01026,
     "end_time": "2025-04-29T19:25:21.361238",
     "exception": false,
     "start_time": "2025-04-29T19:25:21.350978",
     "status": "completed"
    },
    "tags": []
   },
   "outputs": [],
   "source": [
    "#q3.solution()"
   ]
  },
  {
   "cell_type": "markdown",
   "id": "bbef80cd",
   "metadata": {
    "papermill": {
     "duration": 0.004043,
     "end_time": "2025-04-29T19:25:21.369471",
     "exception": false,
     "start_time": "2025-04-29T19:25:21.365428",
     "status": "completed"
    },
    "tags": []
   },
   "source": [
    "# 4. (Optional)\n",
    "\n",
    "It may not be fun, but reading and understanding error messages will be an important part of your Python career.\n",
    "\n",
    "Each code cell below contains some commented buggy code. For each cell...\n",
    "\n",
    "1. Read the code and predict what you think will happen when it's run.\n",
    "2. Then uncomment the code and run it to see what happens. (**Tip**: In the kernel editor, you can highlight several lines and press `ctrl`+`/` to toggle commenting.)\n",
    "3. Fix the code (so that it accomplishes its intended purpose without throwing an exception)\n",
    "\n",
    "<!-- TODO: should this be autochecked? Delta is probably pretty small. -->"
   ]
  },
  {
   "cell_type": "code",
   "execution_count": 9,
   "id": "8bcdb7f7",
   "metadata": {
    "execution": {
     "iopub.execute_input": "2025-04-29T19:25:21.378817Z",
     "iopub.status.busy": "2025-04-29T19:25:21.378504Z",
     "iopub.status.idle": "2025-04-29T19:25:21.383876Z",
     "shell.execute_reply": "2025-04-29T19:25:21.383145Z"
    },
    "papermill": {
     "duration": 0.011666,
     "end_time": "2025-04-29T19:25:21.385218",
     "exception": false,
     "start_time": "2025-04-29T19:25:21.373552",
     "status": "completed"
    },
    "tags": []
   },
   "outputs": [
    {
     "data": {
      "text/plain": [
       "0.0"
      ]
     },
     "execution_count": 9,
     "metadata": {},
     "output_type": "execute_result"
    }
   ],
   "source": [
    "round_to_two_places(9.9999)"
   ]
  },
  {
   "cell_type": "code",
   "execution_count": 10,
   "id": "fa380db6",
   "metadata": {
    "execution": {
     "iopub.execute_input": "2025-04-29T19:25:21.395821Z",
     "iopub.status.busy": "2025-04-29T19:25:21.395213Z",
     "iopub.status.idle": "2025-04-29T19:25:21.399665Z",
     "shell.execute_reply": "2025-04-29T19:25:21.398961Z"
    },
    "papermill": {
     "duration": 0.01133,
     "end_time": "2025-04-29T19:25:21.401203",
     "exception": false,
     "start_time": "2025-04-29T19:25:21.389873",
     "status": "completed"
    },
    "tags": []
   },
   "outputs": [],
   "source": [
    " x = -10\n",
    " y = 5\n",
    "# # Which of the two variables above has the smallest absolute value?\n",
    "a = abs(x)\n",
    "b = abs(y)\n",
    "smallest_abs = min(a, b)"
   ]
  },
  {
   "cell_type": "code",
   "execution_count": 11,
   "id": "cf3130da",
   "metadata": {
    "execution": {
     "iopub.execute_input": "2025-04-29T19:25:21.412177Z",
     "iopub.status.busy": "2025-04-29T19:25:21.411332Z",
     "iopub.status.idle": "2025-04-29T19:25:21.416366Z",
     "shell.execute_reply": "2025-04-29T19:25:21.415578Z"
    },
    "papermill": {
     "duration": 0.011319,
     "end_time": "2025-04-29T19:25:21.417587",
     "exception": false,
     "start_time": "2025-04-29T19:25:21.406268",
     "status": "completed"
    },
    "tags": []
   },
   "outputs": [
    {
     "name": "stdout",
     "output_type": "stream",
     "text": [
      "5\n"
     ]
    }
   ],
   "source": [
    " def f(x):\n",
    "     y = abs(x)\n",
    "     return y\n",
    "\n",
    " print(f(5))"
   ]
  },
  {
   "cell_type": "markdown",
   "id": "a5ceb42c",
   "metadata": {
    "papermill": {
     "duration": 0.00399,
     "end_time": "2025-04-29T19:25:21.425902",
     "exception": false,
     "start_time": "2025-04-29T19:25:21.421912",
     "status": "completed"
    },
    "tags": []
   },
   "source": [
    "# Keep Going\n",
    "\n",
    "Nice job with the code. Next up, you'll learn about *conditionals*, which you'll need to **[write interesting programs](https://www.kaggle.com/colinmorris/booleans-and-conditionals)**. "
   ]
  },
  {
   "cell_type": "markdown",
   "id": "279f2c71",
   "metadata": {
    "papermill": {
     "duration": 0.003986,
     "end_time": "2025-04-29T19:25:21.433993",
     "exception": false,
     "start_time": "2025-04-29T19:25:21.430007",
     "status": "completed"
    },
    "tags": []
   },
   "source": [
    "---\n",
    "\n",
    "\n",
    "\n",
    "\n",
    "*Have questions or comments? Visit the [course discussion forum](https://www.kaggle.com/learn/python/discussion) to chat with other learners.*"
   ]
  }
 ],
 "metadata": {
  "kaggle": {
   "accelerator": "none",
   "dataSources": [],
   "isGpuEnabled": false,
   "isInternetEnabled": false,
   "language": "python",
   "sourceType": "notebook"
  },
  "kernelspec": {
   "display_name": "Python 3",
   "language": "python",
   "name": "python3"
  },
  "language_info": {
   "codemirror_mode": {
    "name": "ipython",
    "version": 3
   },
   "file_extension": ".py",
   "mimetype": "text/x-python",
   "name": "python",
   "nbconvert_exporter": "python",
   "pygments_lexer": "ipython3",
   "version": "3.11.11"
  },
  "learntools_metadata": {
   "lesson_index": 1,
   "type": "exercise"
  },
  "papermill": {
   "default_parameters": {},
   "duration": 7.29644,
   "end_time": "2025-04-29T19:25:21.956744",
   "environment_variables": {},
   "exception": null,
   "input_path": "__notebook__.ipynb",
   "output_path": "__notebook__.ipynb",
   "parameters": {},
   "start_time": "2025-04-29T19:25:14.660304",
   "version": "2.6.0"
  }
 },
 "nbformat": 4,
 "nbformat_minor": 5
}
