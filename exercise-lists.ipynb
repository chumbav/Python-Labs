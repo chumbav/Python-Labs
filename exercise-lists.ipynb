{
 "cells": [
  {
   "cell_type": "markdown",
   "id": "dec7ef1f",
   "metadata": {
    "papermill": {
     "duration": 0.004394,
     "end_time": "2025-05-13T23:03:12.198158",
     "exception": false,
     "start_time": "2025-05-13T23:03:12.193764",
     "status": "completed"
    },
    "tags": []
   },
   "source": [
    "**This notebook is an exercise in the [Python](https://www.kaggle.com/learn/python) course.  You can reference the tutorial at [this link](https://www.kaggle.com/colinmorris/lists).**\n",
    "\n",
    "---\n"
   ]
  },
  {
   "cell_type": "markdown",
   "id": "90b2d530",
   "metadata": {
    "papermill": {
     "duration": 0.00337,
     "end_time": "2025-05-13T23:03:12.205280",
     "exception": false,
     "start_time": "2025-05-13T23:03:12.201910",
     "status": "completed"
    },
    "tags": []
   },
   "source": [
    "Things get more interesting with lists. You'll apply your new knowledge to solve the questions below. Remember to run the following cell first."
   ]
  },
  {
   "cell_type": "code",
   "execution_count": 1,
   "id": "8490e982",
   "metadata": {
    "execution": {
     "iopub.execute_input": "2025-05-13T23:03:12.214427Z",
     "iopub.status.busy": "2025-05-13T23:03:12.213593Z",
     "iopub.status.idle": "2025-05-13T23:03:14.525949Z",
     "shell.execute_reply": "2025-05-13T23:03:14.524501Z"
    },
    "papermill": {
     "duration": 2.318785,
     "end_time": "2025-05-13T23:03:14.527803",
     "exception": false,
     "start_time": "2025-05-13T23:03:12.209018",
     "status": "completed"
    },
    "tags": []
   },
   "outputs": [
    {
     "name": "stdout",
     "output_type": "stream",
     "text": [
      "Setup complete.\n"
     ]
    }
   ],
   "source": [
    "from learntools.core import binder; binder.bind(globals())\n",
    "from learntools.python.ex4 import *\n",
    "print('Setup complete.')"
   ]
  },
  {
   "cell_type": "markdown",
   "id": "0a783f13",
   "metadata": {
    "papermill": {
     "duration": 0.003443,
     "end_time": "2025-05-13T23:03:14.535059",
     "exception": false,
     "start_time": "2025-05-13T23:03:14.531616",
     "status": "completed"
    },
    "tags": []
   },
   "source": [
    "# 1.\n",
    "\n",
    "Complete the function below according to its docstring."
   ]
  },
  {
   "cell_type": "code",
   "execution_count": 2,
   "id": "e7304043",
   "metadata": {
    "execution": {
     "iopub.execute_input": "2025-05-13T23:03:14.544360Z",
     "iopub.status.busy": "2025-05-13T23:03:14.543887Z",
     "iopub.status.idle": "2025-05-13T23:03:14.553650Z",
     "shell.execute_reply": "2025-05-13T23:03:14.552517Z"
    },
    "papermill": {
     "duration": 0.016511,
     "end_time": "2025-05-13T23:03:14.555503",
     "exception": false,
     "start_time": "2025-05-13T23:03:14.538992",
     "status": "completed"
    },
    "tags": []
   },
   "outputs": [
    {
     "data": {
      "application/javascript": [
       "parent.postMessage({\"jupyterEvent\": \"custom.exercise_interaction\", \"data\": {\"outcomeType\": 1, \"valueTowardsCompletion\": 0.2, \"interactionType\": 1, \"questionType\": 2, \"questionId\": \"1_SelectSecondItem\", \"learnToolsVersion\": \"0.3.5\", \"failureMessage\": \"\", \"exceptionClass\": \"\", \"trace\": \"\"}}, \"*\")"
      ],
      "text/plain": [
       "<IPython.core.display.Javascript object>"
      ]
     },
     "metadata": {},
     "output_type": "display_data"
    },
    {
     "data": {
      "text/markdown": [
       "<span style=\"color:#33cc33\">Correct</span>"
      ],
      "text/plain": [
       "Correct"
      ]
     },
     "metadata": {},
     "output_type": "display_data"
    }
   ],
   "source": [
    "def select_second(L):\n",
    "    \"\"\"Return the second element of the given list. If the list has no second\n",
    "    element, return None.\n",
    "    \"\"\"\n",
    "    if len(L) < 2:\n",
    "        return None\n",
    "    else:\n",
    "        return L[1]\n",
    "    pass\n",
    "\n",
    "# Check your answer\n",
    "q1.check()"
   ]
  },
  {
   "cell_type": "code",
   "execution_count": 3,
   "id": "713381fb",
   "metadata": {
    "collapsed": true,
    "execution": {
     "iopub.execute_input": "2025-05-13T23:03:14.565284Z",
     "iopub.status.busy": "2025-05-13T23:03:14.564932Z",
     "iopub.status.idle": "2025-05-13T23:03:14.569331Z",
     "shell.execute_reply": "2025-05-13T23:03:14.568350Z"
    },
    "jupyter": {
     "outputs_hidden": true
    },
    "papermill": {
     "duration": 0.011154,
     "end_time": "2025-05-13T23:03:14.571113",
     "exception": false,
     "start_time": "2025-05-13T23:03:14.559959",
     "status": "completed"
    },
    "tags": []
   },
   "outputs": [],
   "source": [
    "#q1.hint()\n",
    "#q1.solution()"
   ]
  },
  {
   "cell_type": "markdown",
   "id": "2c7d0840",
   "metadata": {
    "papermill": {
     "duration": 0.003594,
     "end_time": "2025-05-13T23:03:14.578744",
     "exception": false,
     "start_time": "2025-05-13T23:03:14.575150",
     "status": "completed"
    },
    "tags": []
   },
   "source": [
    "# 2.\n",
    "\n",
    "You are analyzing sports teams.  Members of each team are stored in a list. The Coach is the first name in the list, the captain is the second name in the list, and other players are listed after that. \n",
    "These lists are stored in another list, which starts with the best team and proceeds through the list to the worst team last.  Complete the function below to select the **captain** of the worst team."
   ]
  },
  {
   "cell_type": "code",
   "execution_count": 4,
   "id": "f4382f39",
   "metadata": {
    "execution": {
     "iopub.execute_input": "2025-05-13T23:03:14.588179Z",
     "iopub.status.busy": "2025-05-13T23:03:14.587806Z",
     "iopub.status.idle": "2025-05-13T23:03:14.597083Z",
     "shell.execute_reply": "2025-05-13T23:03:14.596016Z"
    },
    "papermill": {
     "duration": 0.015934,
     "end_time": "2025-05-13T23:03:14.598772",
     "exception": false,
     "start_time": "2025-05-13T23:03:14.582838",
     "status": "completed"
    },
    "tags": []
   },
   "outputs": [
    {
     "data": {
      "application/javascript": [
       "parent.postMessage({\"jupyterEvent\": \"custom.exercise_interaction\", \"data\": {\"outcomeType\": 1, \"valueTowardsCompletion\": 0.2, \"interactionType\": 1, \"questionType\": 2, \"questionId\": \"2_LosingTeamCaptain\", \"learnToolsVersion\": \"0.3.5\", \"failureMessage\": \"\", \"exceptionClass\": \"\", \"trace\": \"\"}}, \"*\")"
      ],
      "text/plain": [
       "<IPython.core.display.Javascript object>"
      ]
     },
     "metadata": {},
     "output_type": "display_data"
    },
    {
     "data": {
      "text/markdown": [
       "<span style=\"color:#33cc33\">Correct</span>"
      ],
      "text/plain": [
       "Correct"
      ]
     },
     "metadata": {},
     "output_type": "display_data"
    }
   ],
   "source": [
    "def losing_team_captain(teams):\n",
    "    \"\"\"Given a list of teams, where each team is a list of names, return the 2nd player (captain)\n",
    "    from the last listed team\n",
    "    \"\"\"\n",
    "    losing_team  = teams[-1]\n",
    "    if len(losing_team) < 2:\n",
    "        return None\n",
    "    else:\n",
    "        return losing_team[1]\n",
    "    pass\n",
    "\n",
    "# Check your answer\n",
    "q2.check()"
   ]
  },
  {
   "cell_type": "code",
   "execution_count": 5,
   "id": "6ba1b458",
   "metadata": {
    "collapsed": true,
    "execution": {
     "iopub.execute_input": "2025-05-13T23:03:14.609001Z",
     "iopub.status.busy": "2025-05-13T23:03:14.608607Z",
     "iopub.status.idle": "2025-05-13T23:03:14.613138Z",
     "shell.execute_reply": "2025-05-13T23:03:14.612089Z"
    },
    "jupyter": {
     "outputs_hidden": true
    },
    "papermill": {
     "duration": 0.011565,
     "end_time": "2025-05-13T23:03:14.615013",
     "exception": false,
     "start_time": "2025-05-13T23:03:14.603448",
     "status": "completed"
    },
    "tags": []
   },
   "outputs": [],
   "source": [
    "#q2.hint()\n",
    "#q2.solution()"
   ]
  },
  {
   "cell_type": "markdown",
   "id": "7599180d",
   "metadata": {
    "papermill": {
     "duration": 0.00369,
     "end_time": "2025-05-13T23:03:14.623143",
     "exception": false,
     "start_time": "2025-05-13T23:03:14.619453",
     "status": "completed"
    },
    "tags": []
   },
   "source": [
    "# 3.\n",
    "\n",
    "The next iteration of Mario Kart will feature an extra-infuriating new item, the *Purple Shell*. When used, it warps the last place racer into first place and the first place racer into last place. Complete the function below to implement the Purple Shell's effect."
   ]
  },
  {
   "cell_type": "code",
   "execution_count": 6,
   "id": "685cfac5",
   "metadata": {
    "execution": {
     "iopub.execute_input": "2025-05-13T23:03:14.632702Z",
     "iopub.status.busy": "2025-05-13T23:03:14.632285Z",
     "iopub.status.idle": "2025-05-13T23:03:14.642113Z",
     "shell.execute_reply": "2025-05-13T23:03:14.640640Z"
    },
    "papermill": {
     "duration": 0.016922,
     "end_time": "2025-05-13T23:03:14.644079",
     "exception": false,
     "start_time": "2025-05-13T23:03:14.627157",
     "status": "completed"
    },
    "tags": []
   },
   "outputs": [
    {
     "data": {
      "application/javascript": [
       "parent.postMessage({\"jupyterEvent\": \"custom.exercise_interaction\", \"data\": {\"outcomeType\": 1, \"valueTowardsCompletion\": 0.2, \"interactionType\": 1, \"questionType\": 2, \"questionId\": \"3_PurpleShell\", \"learnToolsVersion\": \"0.3.5\", \"failureMessage\": \"\", \"exceptionClass\": \"\", \"trace\": \"\"}}, \"*\")"
      ],
      "text/plain": [
       "<IPython.core.display.Javascript object>"
      ]
     },
     "metadata": {},
     "output_type": "display_data"
    },
    {
     "data": {
      "text/markdown": [
       "<span style=\"color:#33cc33\">Correct</span>"
      ],
      "text/plain": [
       "Correct"
      ]
     },
     "metadata": {},
     "output_type": "display_data"
    }
   ],
   "source": [
    "def purple_shell(racers):\n",
    "    \"\"\"Given a list of racers, set the first place racer (at the front of the list) to last\n",
    "    place and vice versa.\n",
    "    \n",
    "    >>> r = [\"Mario\", \"Bowser\", \"Luigi\"]\n",
    "    >>> purple_shell(r)\n",
    "    >>> r\n",
    "    [\"Luigi\", \"Bowser\", \"Mario\"]\n",
    "    \"\"\"\n",
    "    first_place = racers[0]\n",
    "    last_place = racers[-1]\n",
    "    racers[0] = last_place\n",
    "    racers[-1] = first_place\n",
    "    pass\n",
    "\n",
    "# Check your answer\n",
    "q3.check()"
   ]
  },
  {
   "cell_type": "code",
   "execution_count": 7,
   "id": "38649772",
   "metadata": {
    "collapsed": true,
    "execution": {
     "iopub.execute_input": "2025-05-13T23:03:14.654070Z",
     "iopub.status.busy": "2025-05-13T23:03:14.653712Z",
     "iopub.status.idle": "2025-05-13T23:03:14.658285Z",
     "shell.execute_reply": "2025-05-13T23:03:14.657282Z"
    },
    "jupyter": {
     "outputs_hidden": true
    },
    "papermill": {
     "duration": 0.011348,
     "end_time": "2025-05-13T23:03:14.659858",
     "exception": false,
     "start_time": "2025-05-13T23:03:14.648510",
     "status": "completed"
    },
    "tags": []
   },
   "outputs": [],
   "source": [
    "#q3.hint()\n",
    "#q3.solution()"
   ]
  },
  {
   "cell_type": "markdown",
   "id": "41948e0c",
   "metadata": {
    "papermill": {
     "duration": 0.004796,
     "end_time": "2025-05-13T23:03:14.669194",
     "exception": false,
     "start_time": "2025-05-13T23:03:14.664398",
     "status": "completed"
    },
    "tags": []
   },
   "source": [
    "# 4.\n",
    "\n",
    "What are the lengths of the following lists? Fill in the variable `lengths` with your predictions. (Try to make a prediction for each list *without* just calling `len()` on it.)"
   ]
  },
  {
   "cell_type": "code",
   "execution_count": 8,
   "id": "6e1f4ad8",
   "metadata": {
    "execution": {
     "iopub.execute_input": "2025-05-13T23:03:14.680010Z",
     "iopub.status.busy": "2025-05-13T23:03:14.679372Z",
     "iopub.status.idle": "2025-05-13T23:03:14.690601Z",
     "shell.execute_reply": "2025-05-13T23:03:14.689475Z"
    },
    "papermill": {
     "duration": 0.019293,
     "end_time": "2025-05-13T23:03:14.692955",
     "exception": false,
     "start_time": "2025-05-13T23:03:14.673662",
     "status": "completed"
    },
    "tags": []
   },
   "outputs": [
    {
     "data": {
      "application/javascript": [
       "parent.postMessage({\"jupyterEvent\": \"custom.exercise_interaction\", \"data\": {\"outcomeType\": 1, \"valueTowardsCompletion\": 0.2, \"interactionType\": 1, \"questionType\": 1, \"questionId\": \"4_UnderstandLen\", \"learnToolsVersion\": \"0.3.5\", \"failureMessage\": \"\", \"exceptionClass\": \"\", \"trace\": \"\"}}, \"*\")"
      ],
      "text/plain": [
       "<IPython.core.display.Javascript object>"
      ]
     },
     "metadata": {},
     "output_type": "display_data"
    },
    {
     "data": {
      "text/markdown": [
       "<span style=\"color:#33cc33\">Correct:</span> \n",
       "\n",
       "\n",
       "- a: There are three items in this list. Nothing tricky yet.\n",
       "- b: The list `[2, 3]` counts as a single item. It has one item before it. So we have 2 items in the list\n",
       "- c: The empty list has 0 items\n",
       "- d: The expression is the same as the list `[2, 3]`, which has length 2."
      ],
      "text/plain": [
       "Correct: \n",
       "\n",
       "\n",
       "- a: There are three items in this list. Nothing tricky yet.\n",
       "- b: The list `[2, 3]` counts as a single item. It has one item before it. So we have 2 items in the list\n",
       "- c: The empty list has 0 items\n",
       "- d: The expression is the same as the list `[2, 3]`, which has length 2."
      ]
     },
     "metadata": {},
     "output_type": "display_data"
    }
   ],
   "source": [
    "a = [1, 2, 3]\n",
    "b = [1, [2, 3]]\n",
    "c = []\n",
    "d = [1, 2, 3][1:]\n",
    "\n",
    "# Put your predictions in the list below. Lengths should contain 4 numbers, the\n",
    "# first being the length of a, the second being the length of b and so on.\n",
    "lengths = [3, 2, 0, 2]\n",
    "\n",
    "# Check your answer\n",
    "q4.check()"
   ]
  },
  {
   "cell_type": "code",
   "execution_count": 9,
   "id": "8c5c9d88",
   "metadata": {
    "collapsed": true,
    "execution": {
     "iopub.execute_input": "2025-05-13T23:03:14.713101Z",
     "iopub.status.busy": "2025-05-13T23:03:14.711454Z",
     "iopub.status.idle": "2025-05-13T23:03:14.719169Z",
     "shell.execute_reply": "2025-05-13T23:03:14.717728Z"
    },
    "jupyter": {
     "outputs_hidden": true
    },
    "papermill": {
     "duration": 0.021789,
     "end_time": "2025-05-13T23:03:14.721445",
     "exception": false,
     "start_time": "2025-05-13T23:03:14.699656",
     "status": "completed"
    },
    "tags": []
   },
   "outputs": [],
   "source": [
    "# line below provides some explanation\n",
    "#q4.solution()"
   ]
  },
  {
   "cell_type": "markdown",
   "id": "bd658972",
   "metadata": {
    "papermill": {
     "duration": 0.008028,
     "end_time": "2025-05-13T23:03:14.735505",
     "exception": false,
     "start_time": "2025-05-13T23:03:14.727477",
     "status": "completed"
    },
    "tags": []
   },
   "source": [
    "# 5. <span title=\"A bit spicy\" style=\"color: darkgreen \">🌶️</span>\n",
    "\n",
    "We're using lists to record people who attended our party and what order they arrived in. For example, the following list represents a party with 7 guests, in which Adela showed up first and Ford was the last to arrive:\n",
    "\n",
    "    party_attendees = ['Adela', 'Fleda', 'Owen', 'May', 'Mona', 'Gilbert', 'Ford']\n",
    "\n",
    "A guest is considered 'fashionably late' if they arrived after at least half of the party's guests. However, they must not be the very last guest (that's taking it too far). In the above example, Mona and Gilbert are the only guests who were fashionably late.\n",
    "\n",
    "Complete the function below which takes a list of party attendees as well as a person, and tells us whether that person is fashionably late."
   ]
  },
  {
   "cell_type": "code",
   "execution_count": 10,
   "id": "129460f2",
   "metadata": {
    "execution": {
     "iopub.execute_input": "2025-05-13T23:03:14.751082Z",
     "iopub.status.busy": "2025-05-13T23:03:14.750713Z",
     "iopub.status.idle": "2025-05-13T23:03:14.759409Z",
     "shell.execute_reply": "2025-05-13T23:03:14.758452Z"
    },
    "papermill": {
     "duration": 0.016174,
     "end_time": "2025-05-13T23:03:14.761124",
     "exception": false,
     "start_time": "2025-05-13T23:03:14.744950",
     "status": "completed"
    },
    "tags": []
   },
   "outputs": [
    {
     "data": {
      "application/javascript": [
       "parent.postMessage({\"jupyterEvent\": \"custom.exercise_interaction\", \"data\": {\"outcomeType\": 1, \"valueTowardsCompletion\": 0.2, \"interactionType\": 1, \"questionType\": 2, \"questionId\": \"5_FashionablyLate\", \"learnToolsVersion\": \"0.3.5\", \"failureMessage\": \"\", \"exceptionClass\": \"\", \"trace\": \"\"}}, \"*\")"
      ],
      "text/plain": [
       "<IPython.core.display.Javascript object>"
      ]
     },
     "metadata": {},
     "output_type": "display_data"
    },
    {
     "data": {
      "text/markdown": [
       "<span style=\"color:#33cc33\">Correct</span>"
      ],
      "text/plain": [
       "Correct"
      ]
     },
     "metadata": {},
     "output_type": "display_data"
    }
   ],
   "source": [
    "def fashionably_late(arrivals, name):\n",
    "    \"\"\"Given an ordered list of arrivals to the party and a name, return whether the guest with that\n",
    "    name was fashionably late.\n",
    "    \"\"\"\n",
    "    order = arrivals.index(name)\n",
    "    return order >= len(arrivals)/2 and order!= len(arrivals) - 1\n",
    "    pass\n",
    "\n",
    "# Check your answer\n",
    "q5.check()"
   ]
  },
  {
   "cell_type": "code",
   "execution_count": 11,
   "id": "49fb0aab",
   "metadata": {
    "collapsed": true,
    "execution": {
     "iopub.execute_input": "2025-05-13T23:03:14.773071Z",
     "iopub.status.busy": "2025-05-13T23:03:14.772714Z",
     "iopub.status.idle": "2025-05-13T23:03:14.777287Z",
     "shell.execute_reply": "2025-05-13T23:03:14.776473Z"
    },
    "jupyter": {
     "outputs_hidden": true
    },
    "papermill": {
     "duration": 0.01239,
     "end_time": "2025-05-13T23:03:14.779263",
     "exception": false,
     "start_time": "2025-05-13T23:03:14.766873",
     "status": "completed"
    },
    "tags": []
   },
   "outputs": [],
   "source": [
    "#q5.hint()\n",
    "#q5.solution()"
   ]
  },
  {
   "cell_type": "markdown",
   "id": "dd52636d",
   "metadata": {
    "papermill": {
     "duration": 0.004744,
     "end_time": "2025-05-13T23:03:14.788827",
     "exception": false,
     "start_time": "2025-05-13T23:03:14.784083",
     "status": "completed"
    },
    "tags": []
   },
   "source": [
    "# Keep Going\n",
    "\n",
    "That's it for lists and tuples! Now you have the baseline knowledge to **[learn about loops](https://www.kaggle.com/colinmorris/loops-and-list-comprehensions)**, which is where lists and tuples get really interesting. "
   ]
  },
  {
   "cell_type": "markdown",
   "id": "66714f9c",
   "metadata": {
    "papermill": {
     "duration": 0.009561,
     "end_time": "2025-05-13T23:03:14.803015",
     "exception": false,
     "start_time": "2025-05-13T23:03:14.793454",
     "status": "completed"
    },
    "tags": []
   },
   "source": [
    "---\n",
    "\n",
    "\n",
    "\n",
    "\n",
    "*Have questions or comments? Visit the [course discussion forum](https://www.kaggle.com/learn/python/discussion) to chat with other learners.*"
   ]
  }
 ],
 "metadata": {
  "kaggle": {
   "accelerator": "none",
   "dataSources": [],
   "isGpuEnabled": false,
   "isInternetEnabled": false,
   "language": "python",
   "sourceType": "notebook"
  },
  "kernelspec": {
   "display_name": "Python 3",
   "language": "python",
   "name": "python3"
  },
  "language_info": {
   "codemirror_mode": {
    "name": "ipython",
    "version": 3
   },
   "file_extension": ".py",
   "mimetype": "text/x-python",
   "name": "python",
   "nbconvert_exporter": "python",
   "pygments_lexer": "ipython3",
   "version": "3.11.11"
  },
  "learntools_metadata": {
   "lesson_index": 3,
   "type": "exercise"
  },
  "papermill": {
   "default_parameters": {},
   "duration": 8.593811,
   "end_time": "2025-05-13T23:03:15.435336",
   "environment_variables": {},
   "exception": null,
   "input_path": "__notebook__.ipynb",
   "output_path": "__notebook__.ipynb",
   "parameters": {},
   "start_time": "2025-05-13T23:03:06.841525",
   "version": "2.6.0"
  }
 },
 "nbformat": 4,
 "nbformat_minor": 5
}
