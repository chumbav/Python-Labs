{
 "cells": [
  {
   "cell_type": "markdown",
   "id": "e3cfe5ac",
   "metadata": {
    "papermill": {
     "duration": 0.005606,
     "end_time": "2025-04-14T15:54:45.451449",
     "exception": false,
     "start_time": "2025-04-14T15:54:45.445843",
     "status": "completed"
    },
    "tags": []
   },
   "source": [
    "**This notebook is an exercise in the [Python](https://www.kaggle.com/learn/python) course.  You can reference the tutorial at [this link](https://www.kaggle.com/colinmorris/hello-python).**\n",
    "\n",
    "---\n"
   ]
  },
  {
   "cell_type": "markdown",
   "id": "2c61fdc3",
   "metadata": {
    "papermill": {
     "duration": 0.004566,
     "end_time": "2025-04-14T15:54:45.461087",
     "exception": false,
     "start_time": "2025-04-14T15:54:45.456521",
     "status": "completed"
    },
    "tags": []
   },
   "source": [
    "Welcome to your first set of Python coding problems.  If this is your first time using Kaggle Notebooks, welcome! \n",
    "\n",
    "Notebooks are composed of blocks (called \"cells\") of text and code. Each of these is editable, though you'll mainly be editing the code cells to answer some questions.\n",
    "\n",
    "To get started, try running the code cell below (by pressing the ► button, or clicking on the cell and pressing ctrl+enter on your keyboard)."
   ]
  },
  {
   "cell_type": "code",
   "execution_count": null,
   "id": "5061280e",
   "metadata": {
    "papermill": {
     "duration": 0.004561,
     "end_time": "2025-04-14T15:54:45.470386",
     "exception": false,
     "start_time": "2025-04-14T15:54:45.465825",
     "status": "completed"
    },
    "tags": []
   },
   "outputs": [],
   "source": []
  },
  {
   "cell_type": "code",
   "execution_count": 1,
   "id": "31312459",
   "metadata": {
    "execution": {
     "iopub.execute_input": "2025-04-14T15:54:45.481865Z",
     "iopub.status.busy": "2025-04-14T15:54:45.481373Z",
     "iopub.status.idle": "2025-04-14T15:54:45.492087Z",
     "shell.execute_reply": "2025-04-14T15:54:45.490795Z"
    },
    "papermill": {
     "duration": 0.018652,
     "end_time": "2025-04-14T15:54:45.493733",
     "exception": false,
     "start_time": "2025-04-14T15:54:45.475081",
     "status": "completed"
    },
    "tags": []
   },
   "outputs": [
    {
     "name": "stdout",
     "output_type": "stream",
     "text": [
      "You've successfully run some Python code\n",
      "Congratulations!\n",
      "Hello world, It's Victor\n"
     ]
    }
   ],
   "source": [
    "print(\"You've successfully run some Python code\")\n",
    "print(\"Congratulations!\")\n",
    "print(\"Hello world, It's Victor\")"
   ]
  },
  {
   "cell_type": "code",
   "execution_count": null,
   "id": "3f62f23c",
   "metadata": {
    "papermill": {
     "duration": 0.004712,
     "end_time": "2025-04-14T15:54:45.503841",
     "exception": false,
     "start_time": "2025-04-14T15:54:45.499129",
     "status": "completed"
    },
    "tags": []
   },
   "outputs": [],
   "source": []
  },
  {
   "cell_type": "markdown",
   "id": "1eb43f7c",
   "metadata": {
    "papermill": {
     "duration": 0.004682,
     "end_time": "2025-04-14T15:54:45.513452",
     "exception": false,
     "start_time": "2025-04-14T15:54:45.508770",
     "status": "completed"
    },
    "tags": []
   },
   "source": [
    "Try adding another line of code in the cell above and re-running it. \n",
    "\n",
    "Now let's get a little fancier:  Add a new code cell by clicking on an existing code cell, hitting the escape key, and then hitting the `a` or `b` key.  The `a` key will add a cell above the current cell, and `b` adds a cell below.\n",
    "\n",
    "Great! Now you know how to use Notebooks.\n",
    "\n",
    "Each hands-on exercise starts by setting up our feedback and code checking mechanism. Run the code cell below to do that. Then you'll be ready to move on to question 0."
   ]
  },
  {
   "cell_type": "code",
   "execution_count": 2,
   "id": "a77cad23",
   "metadata": {
    "_kg_hide-input": true,
    "_kg_hide-output": true,
    "execution": {
     "iopub.execute_input": "2025-04-14T15:54:45.525170Z",
     "iopub.status.busy": "2025-04-14T15:54:45.524839Z",
     "iopub.status.idle": "2025-04-14T15:54:47.530446Z",
     "shell.execute_reply": "2025-04-14T15:54:47.529058Z"
    },
    "papermill": {
     "duration": 2.014009,
     "end_time": "2025-04-14T15:54:47.532248",
     "exception": false,
     "start_time": "2025-04-14T15:54:45.518239",
     "status": "completed"
    },
    "tags": []
   },
   "outputs": [
    {
     "name": "stdout",
     "output_type": "stream",
     "text": [
      "Setup complete! You're ready to start question 0.\n"
     ]
    }
   ],
   "source": [
    "from learntools.core import binder; binder.bind(globals())\n",
    "from learntools.python.ex1 import *\n",
    "print(\"Setup complete! You're ready to start question 0.\")"
   ]
  },
  {
   "cell_type": "markdown",
   "id": "d390271f",
   "metadata": {
    "papermill": {
     "duration": 0.005168,
     "end_time": "2025-04-14T15:54:47.542613",
     "exception": false,
     "start_time": "2025-04-14T15:54:47.537445",
     "status": "completed"
    },
    "tags": []
   },
   "source": [
    "# 0.\n",
    "\n",
    "*This is a silly question intended as an introduction to the format we use for hands-on exercises throughout all Kaggle courses.*\n",
    "\n",
    "**What is your favorite color? **\n",
    "\n",
    "To complete this question, create a variable called `color` in the cell below with an appropriate value. The function call `q0.check()` (which we've already provided in the cell below) will check your answer."
   ]
  },
  {
   "cell_type": "code",
   "execution_count": 3,
   "id": "7cc70bcf",
   "metadata": {
    "execution": {
     "iopub.execute_input": "2025-04-14T15:54:47.555298Z",
     "iopub.status.busy": "2025-04-14T15:54:47.554859Z",
     "iopub.status.idle": "2025-04-14T15:54:47.563491Z",
     "shell.execute_reply": "2025-04-14T15:54:47.562604Z"
    },
    "papermill": {
     "duration": 0.016796,
     "end_time": "2025-04-14T15:54:47.564839",
     "exception": false,
     "start_time": "2025-04-14T15:54:47.548043",
     "status": "completed"
    },
    "tags": []
   },
   "outputs": [
    {
     "data": {
      "application/javascript": [
       "parent.postMessage({\"jupyterEvent\": \"custom.exercise_interaction\", \"data\": {\"outcomeType\": 1, \"valueTowardsCompletion\": 0.25, \"interactionType\": 1, \"questionType\": 2, \"questionId\": \"0_ExerciseFormatTutorial\", \"learnToolsVersion\": \"0.3.5\", \"failureMessage\": \"\", \"exceptionClass\": \"\", \"trace\": \"\"}}, \"*\")"
      ],
      "text/plain": [
       "<IPython.core.display.Javascript object>"
      ]
     },
     "metadata": {},
     "output_type": "display_data"
    },
    {
     "data": {
      "text/markdown": [
       "<span style=\"color:#33cc33\">Correct:</span> What?! You got it right without needing a hint or anything? Drats. Well hey, you should still continue to the next step to get some practice asking for a hint and checking solutions. (Even though you obviously don't need any help here.)"
      ],
      "text/plain": [
       "Correct: What?! You got it right without needing a hint or anything? Drats. Well hey, you should still continue to the next step to get some practice asking for a hint and checking solutions. (Even though you obviously don't need any help here.)"
      ]
     },
     "metadata": {},
     "output_type": "display_data"
    }
   ],
   "source": [
    "# create a variable called color with an appropriate value on the line below\n",
    "# (Remember, strings in Python must be enclosed in 'single' or \"double\" quotes)\n",
    "color = ('Blue')\n",
    "\n",
    "# Check your answer\n",
    "q0.check()"
   ]
  },
  {
   "cell_type": "markdown",
   "id": "ee44f98c",
   "metadata": {
    "papermill": {
     "duration": 0.004897,
     "end_time": "2025-04-14T15:54:47.575263",
     "exception": false,
     "start_time": "2025-04-14T15:54:47.570366",
     "status": "completed"
    },
    "tags": []
   },
   "source": [
    "Didn't get the right answer? How do you not even know your own favorite color?!\n",
    "\n",
    "Delete the `#` in the line below to make one of the lines run. You can choose between getting a hint or the full answer by choosing which line to remove the `#` from. \n",
    "\n",
    "Removing the `#` is called uncommenting, because it changes that line from a \"comment\" which Python doesn't run to code, which Python does run."
   ]
  },
  {
   "cell_type": "code",
   "execution_count": 4,
   "id": "b20a4b9c",
   "metadata": {
    "execution": {
     "iopub.execute_input": "2025-04-14T15:54:47.587849Z",
     "iopub.status.busy": "2025-04-14T15:54:47.587468Z",
     "iopub.status.idle": "2025-04-14T15:54:47.595336Z",
     "shell.execute_reply": "2025-04-14T15:54:47.594297Z"
    },
    "papermill": {
     "duration": 0.017094,
     "end_time": "2025-04-14T15:54:47.597566",
     "exception": false,
     "start_time": "2025-04-14T15:54:47.580472",
     "status": "completed"
    },
    "tags": []
   },
   "outputs": [
    {
     "data": {
      "application/javascript": [
       "parent.postMessage({\"jupyterEvent\": \"custom.exercise_interaction\", \"data\": {\"interactionType\": 2, \"questionType\": 2, \"questionId\": \"0_ExerciseFormatTutorial\", \"learnToolsVersion\": \"0.3.5\", \"valueTowardsCompletion\": 0.0, \"failureMessage\": \"\", \"exceptionClass\": \"\", \"trace\": \"\", \"outcomeType\": 4}}, \"*\")"
      ],
      "text/plain": [
       "<IPython.core.display.Javascript object>"
      ]
     },
     "metadata": {},
     "output_type": "display_data"
    },
    {
     "data": {
      "text/markdown": [
       "<span style=\"color:#3366cc\">Hint:</span> Your favorite color rhymes with *glue*."
      ],
      "text/plain": [
       "Hint: Your favorite color rhymes with *glue*."
      ]
     },
     "metadata": {},
     "output_type": "display_data"
    }
   ],
   "source": [
    "q0.hint()\n",
    "#q0.solution()"
   ]
  },
  {
   "cell_type": "markdown",
   "id": "3c511ba5",
   "metadata": {
    "papermill": {
     "duration": 0.009049,
     "end_time": "2025-04-14T15:54:47.617869",
     "exception": false,
     "start_time": "2025-04-14T15:54:47.608820",
     "status": "completed"
    },
    "tags": []
   },
   "source": [
    "The upcoming questions work the same way. The only thing that will change are the question numbers. For the next question, you'll call `q1.check()`, `q1.hint()`, `q1.solution()`, for question 2, you'll call `q2.check()`, and so on."
   ]
  },
  {
   "cell_type": "markdown",
   "id": "214578fb",
   "metadata": {
    "papermill": {
     "duration": 0.007622,
     "end_time": "2025-04-14T15:54:47.632724",
     "exception": false,
     "start_time": "2025-04-14T15:54:47.625102",
     "status": "completed"
    },
    "tags": []
   },
   "source": [
    "<hr/>\n",
    "\n",
    "# 1.\n",
    "\n",
    "Complete the code below. In case it's helpful, here is the table of available arithmetic operations:\n",
    "\n",
    "\n",
    "\n",
    "| Operator     | Name           | Description                                            |\n",
    "|--------------|----------------|--------------------------------------------------------|\n",
    "| ``a + b``    | Addition       | Sum of ``a`` and ``b``                                 |\n",
    "| ``a - b``    | Subtraction    | Difference of ``a`` and ``b``                          |\n",
    "| ``a * b``    | Multiplication | Product of ``a`` and ``b``                             |\n",
    "| ``a / b``    | True division  | Quotient of ``a`` and ``b``                            |\n",
    "| ``a // b``   | Floor division | Quotient of ``a`` and ``b``, removing fractional parts |\n",
    "| ``a % b``    | Modulus        | Integer remainder after division of ``a`` by ``b``     |\n",
    "| ``a ** b``   | Exponentiation | ``a`` raised to the power of ``b``                     |\n",
    "| ``-a``       | Negation       | The negative of ``a``                                  |\n",
    "\n",
    "<span style=\"display:none\"></span>\n"
   ]
  },
  {
   "cell_type": "code",
   "execution_count": 5,
   "id": "7444479d",
   "metadata": {
    "execution": {
     "iopub.execute_input": "2025-04-14T15:54:47.646322Z",
     "iopub.status.busy": "2025-04-14T15:54:47.645998Z",
     "iopub.status.idle": "2025-04-14T15:54:47.655004Z",
     "shell.execute_reply": "2025-04-14T15:54:47.653857Z"
    },
    "papermill": {
     "duration": 0.018538,
     "end_time": "2025-04-14T15:54:47.657237",
     "exception": false,
     "start_time": "2025-04-14T15:54:47.638699",
     "status": "completed"
    },
    "tags": []
   },
   "outputs": [
    {
     "data": {
      "application/javascript": [
       "parent.postMessage({\"jupyterEvent\": \"custom.exercise_interaction\", \"data\": {\"outcomeType\": 1, \"valueTowardsCompletion\": 0.25, \"interactionType\": 1, \"questionType\": 1, \"questionId\": \"1_CircleArea\", \"learnToolsVersion\": \"0.3.5\", \"failureMessage\": \"\", \"exceptionClass\": \"\", \"trace\": \"\"}}, \"*\")"
      ],
      "text/plain": [
       "<IPython.core.display.Javascript object>"
      ]
     },
     "metadata": {},
     "output_type": "display_data"
    },
    {
     "data": {
      "text/markdown": [
       "<span style=\"color:#33cc33\">Correct</span>"
      ],
      "text/plain": [
       "Correct"
      ]
     },
     "metadata": {},
     "output_type": "display_data"
    }
   ],
   "source": [
    "pi = 3.14159 # approximate\n",
    "diameter = 3\n",
    "\n",
    "# Create a variable called 'radius' equal to half the diameter\n",
    "radius = diameter / 2\n",
    "\n",
    "# Create a variable called 'area', using the formula for the area of a circle: pi times the radius squared\n",
    "area = pi * (radius**2)\n",
    "\n",
    "# Check your answer\n",
    "q1.check()"
   ]
  },
  {
   "cell_type": "code",
   "execution_count": 6,
   "id": "83896ecc",
   "metadata": {
    "execution": {
     "iopub.execute_input": "2025-04-14T15:54:47.674453Z",
     "iopub.status.busy": "2025-04-14T15:54:47.674131Z",
     "iopub.status.idle": "2025-04-14T15:54:47.678060Z",
     "shell.execute_reply": "2025-04-14T15:54:47.677225Z"
    },
    "papermill": {
     "duration": 0.012469,
     "end_time": "2025-04-14T15:54:47.679467",
     "exception": false,
     "start_time": "2025-04-14T15:54:47.666998",
     "status": "completed"
    },
    "tags": []
   },
   "outputs": [],
   "source": [
    "# Uncomment and run the lines below if you need help.\n",
    "#q1.hint()\n",
    "#q1.solution()"
   ]
  },
  {
   "cell_type": "markdown",
   "id": "dfdf020b",
   "metadata": {
    "papermill": {
     "duration": 0.005255,
     "end_time": "2025-04-14T15:54:47.690487",
     "exception": false,
     "start_time": "2025-04-14T15:54:47.685232",
     "status": "completed"
    },
    "tags": []
   },
   "source": [
    "<hr/>\n",
    "\n",
    "# 2.\n",
    "\n",
    "Add code to the following cell to swap variables `a` and `b` (so that `a` refers to the object previously referred to by `b` and vice versa)."
   ]
  },
  {
   "cell_type": "code",
   "execution_count": 7,
   "id": "99671577",
   "metadata": {
    "execution": {
     "iopub.execute_input": "2025-04-14T15:54:47.704863Z",
     "iopub.status.busy": "2025-04-14T15:54:47.704127Z",
     "iopub.status.idle": "2025-04-14T15:54:47.713285Z",
     "shell.execute_reply": "2025-04-14T15:54:47.712242Z"
    },
    "papermill": {
     "duration": 0.017989,
     "end_time": "2025-04-14T15:54:47.715106",
     "exception": false,
     "start_time": "2025-04-14T15:54:47.697117",
     "status": "completed"
    },
    "tags": []
   },
   "outputs": [
    {
     "data": {
      "application/javascript": [
       "parent.postMessage({\"jupyterEvent\": \"custom.exercise_interaction\", \"data\": {\"outcomeType\": 1, \"valueTowardsCompletion\": 0.25, \"interactionType\": 1, \"questionType\": 2, \"questionId\": \"2_VariableSwap\", \"learnToolsVersion\": \"0.3.5\", \"failureMessage\": \"\", \"exceptionClass\": \"\", \"trace\": \"\"}}, \"*\")"
      ],
      "text/plain": [
       "<IPython.core.display.Javascript object>"
      ]
     },
     "metadata": {},
     "output_type": "display_data"
    },
    {
     "data": {
      "text/markdown": [
       "<span style=\"color:#33cc33\">Correct:</span> \n",
       "\n",
       "The most straightforward solution is to use a third variable to temporarily store one of the old values. e.g.:\n",
       "\n",
       "    tmp = a\n",
       "    a = b\n",
       "    b = tmp\n",
       "\n",
       "If you've read lots of Python code, you might have seen the following trick to swap two variables in one line:\n",
       "\n",
       "    a, b = b, a\n",
       "\n",
       "We'll demystify this bit of Python magic later when we talk about *tuples*."
      ],
      "text/plain": [
       "Correct: \n",
       "\n",
       "The most straightforward solution is to use a third variable to temporarily store one of the old values. e.g.:\n",
       "\n",
       "    tmp = a\n",
       "    a = b\n",
       "    b = tmp\n",
       "\n",
       "If you've read lots of Python code, you might have seen the following trick to swap two variables in one line:\n",
       "\n",
       "    a, b = b, a\n",
       "\n",
       "We'll demystify this bit of Python magic later when we talk about *tuples*."
      ]
     },
     "metadata": {},
     "output_type": "display_data"
    }
   ],
   "source": [
    "########### Setup code - don't touch this part ######################\n",
    "# If you're curious, these are examples of lists. We'll talk about \n",
    "# them in depth a few lessons from now. For now, just know that they're\n",
    "# yet another type of Python object, like int or float.\n",
    "a = [1, 2, 3]\n",
    "b = [3, 2, 1]\n",
    "q2.store_original_ids()\n",
    "######################################################################\n",
    "\n",
    "# Your code goes here. Swap the values to which a and b refer.\n",
    "# If you get stuck, you can always uncomment one or both of the lines in\n",
    "# the next cell for a hint, or to peek at the solution.\n",
    "v = a\n",
    "a = b\n",
    "b = v\n",
    "\n",
    "######################################################################\n",
    "\n",
    "# Check your answer\n",
    "q2.check()"
   ]
  },
  {
   "cell_type": "code",
   "execution_count": 8,
   "id": "0bcc07c8",
   "metadata": {
    "execution": {
     "iopub.execute_input": "2025-04-14T15:54:47.729258Z",
     "iopub.status.busy": "2025-04-14T15:54:47.728963Z",
     "iopub.status.idle": "2025-04-14T15:54:47.737420Z",
     "shell.execute_reply": "2025-04-14T15:54:47.736481Z"
    },
    "papermill": {
     "duration": 0.017641,
     "end_time": "2025-04-14T15:54:47.739244",
     "exception": false,
     "start_time": "2025-04-14T15:54:47.721603",
     "status": "completed"
    },
    "tags": []
   },
   "outputs": [
    {
     "data": {
      "application/javascript": [
       "parent.postMessage({\"jupyterEvent\": \"custom.exercise_interaction\", \"data\": {\"interactionType\": 2, \"questionType\": 2, \"questionId\": \"2_VariableSwap\", \"learnToolsVersion\": \"0.3.5\", \"valueTowardsCompletion\": 0.0, \"failureMessage\": \"\", \"exceptionClass\": \"\", \"trace\": \"\", \"outcomeType\": 4}}, \"*\")"
      ],
      "text/plain": [
       "<IPython.core.display.Javascript object>"
      ]
     },
     "metadata": {},
     "output_type": "display_data"
    },
    {
     "data": {
      "text/markdown": [
       "<span style=\"color:#3366cc\">Hint:</span> Try using a third variable."
      ],
      "text/plain": [
       "Hint: Try using a third variable."
      ]
     },
     "metadata": {},
     "output_type": "display_data"
    }
   ],
   "source": [
    "q2.hint()"
   ]
  },
  {
   "cell_type": "code",
   "execution_count": 9,
   "id": "16cfea00",
   "metadata": {
    "execution": {
     "iopub.execute_input": "2025-04-14T15:54:47.757277Z",
     "iopub.status.busy": "2025-04-14T15:54:47.756203Z",
     "iopub.status.idle": "2025-04-14T15:54:47.765594Z",
     "shell.execute_reply": "2025-04-14T15:54:47.764526Z"
    },
    "papermill": {
     "duration": 0.021878,
     "end_time": "2025-04-14T15:54:47.767457",
     "exception": false,
     "start_time": "2025-04-14T15:54:47.745579",
     "status": "completed"
    },
    "tags": []
   },
   "outputs": [
    {
     "data": {
      "application/javascript": [
       "parent.postMessage({\"jupyterEvent\": \"custom.exercise_interaction\", \"data\": {\"interactionType\": 3, \"questionType\": 2, \"questionId\": \"2_VariableSwap\", \"learnToolsVersion\": \"0.3.5\", \"valueTowardsCompletion\": 0.0, \"failureMessage\": \"\", \"exceptionClass\": \"\", \"trace\": \"\", \"outcomeType\": 4}}, \"*\")"
      ],
      "text/plain": [
       "<IPython.core.display.Javascript object>"
      ]
     },
     "metadata": {},
     "output_type": "display_data"
    },
    {
     "data": {
      "text/markdown": [
       "<span style=\"color:#33cc99\">Solution:</span> The most straightforward solution is to use a third variable to temporarily store one of the old values. e.g.:\n",
       "\n",
       "    tmp = a\n",
       "    a = b\n",
       "    b = tmp\n",
       "\n",
       "If you've read lots of Python code, you might have seen the following trick to swap two variables in one line:\n",
       "\n",
       "    a, b = b, a\n",
       "\n",
       "We'll demystify this bit of Python magic later when we talk about *tuples*."
      ],
      "text/plain": [
       "Solution: The most straightforward solution is to use a third variable to temporarily store one of the old values. e.g.:\n",
       "\n",
       "    tmp = a\n",
       "    a = b\n",
       "    b = tmp\n",
       "\n",
       "If you've read lots of Python code, you might have seen the following trick to swap two variables in one line:\n",
       "\n",
       "    a, b = b, a\n",
       "\n",
       "We'll demystify this bit of Python magic later when we talk about *tuples*."
      ]
     },
     "metadata": {},
     "output_type": "display_data"
    }
   ],
   "source": [
    "q2.solution()"
   ]
  },
  {
   "cell_type": "markdown",
   "id": "fe835918",
   "metadata": {
    "papermill": {
     "duration": 0.010626,
     "end_time": "2025-04-14T15:54:47.788622",
     "exception": false,
     "start_time": "2025-04-14T15:54:47.777996",
     "status": "completed"
    },
    "tags": []
   },
   "source": [
    "<hr/>\n",
    "\n",
    "# 3a.\n",
    "\n",
    "Add parentheses to the following expression so that it evaluates to 1."
   ]
  },
  {
   "cell_type": "code",
   "execution_count": 10,
   "id": "42e2bb97",
   "metadata": {
    "execution": {
     "iopub.execute_input": "2025-04-14T15:54:47.814588Z",
     "iopub.status.busy": "2025-04-14T15:54:47.813661Z",
     "iopub.status.idle": "2025-04-14T15:54:47.822310Z",
     "shell.execute_reply": "2025-04-14T15:54:47.821003Z"
    },
    "papermill": {
     "duration": 0.022365,
     "end_time": "2025-04-14T15:54:47.824381",
     "exception": false,
     "start_time": "2025-04-14T15:54:47.802016",
     "status": "completed"
    },
    "tags": []
   },
   "outputs": [
    {
     "data": {
      "text/plain": [
       "1"
      ]
     },
     "execution_count": 10,
     "metadata": {},
     "output_type": "execute_result"
    }
   ],
   "source": [
    "(5 - 3) // 2"
   ]
  },
  {
   "cell_type": "code",
   "execution_count": 11,
   "id": "81b7c2c5",
   "metadata": {
    "execution": {
     "iopub.execute_input": "2025-04-14T15:54:47.845612Z",
     "iopub.status.busy": "2025-04-14T15:54:47.845168Z",
     "iopub.status.idle": "2025-04-14T15:54:47.850793Z",
     "shell.execute_reply": "2025-04-14T15:54:47.849775Z"
    },
    "papermill": {
     "duration": 0.017231,
     "end_time": "2025-04-14T15:54:47.852228",
     "exception": false,
     "start_time": "2025-04-14T15:54:47.834997",
     "status": "completed"
    },
    "tags": []
   },
   "outputs": [],
   "source": [
    "#q3.a.hint()"
   ]
  },
  {
   "cell_type": "code",
   "execution_count": 12,
   "id": "4cb8e802",
   "metadata": {
    "execution": {
     "iopub.execute_input": "2025-04-14T15:54:47.873444Z",
     "iopub.status.busy": "2025-04-14T15:54:47.873041Z",
     "iopub.status.idle": "2025-04-14T15:54:47.881742Z",
     "shell.execute_reply": "2025-04-14T15:54:47.880610Z"
    },
    "papermill": {
     "duration": 0.021249,
     "end_time": "2025-04-14T15:54:47.883848",
     "exception": false,
     "start_time": "2025-04-14T15:54:47.862599",
     "status": "completed"
    },
    "tags": []
   },
   "outputs": [
    {
     "data": {
      "application/javascript": [
       "parent.postMessage({\"jupyterEvent\": \"custom.exercise_interaction\", \"data\": {\"interactionType\": 3, \"questionType\": 4, \"questionId\": \"3.1_ArithmeticParensEasy\", \"learnToolsVersion\": \"0.3.5\", \"valueTowardsCompletion\": 0.0, \"failureMessage\": \"\", \"exceptionClass\": \"\", \"trace\": \"\", \"outcomeType\": 4}}, \"*\")"
      ],
      "text/plain": [
       "<IPython.core.display.Javascript object>"
      ]
     },
     "metadata": {},
     "output_type": "display_data"
    },
    {
     "data": {
      "text/markdown": [
       "<span style=\"color:#33cc99\">Solution:</span> \n",
       "```python\n",
       "(5 - 3) // 2\n",
       "```"
      ],
      "text/plain": [
       "Solution: \n",
       "```python\n",
       "(5 - 3) // 2\n",
       "```"
      ]
     },
     "metadata": {},
     "output_type": "display_data"
    }
   ],
   "source": [
    "# Check your answer (Run this code cell to receive credit!)\n",
    "q3.a.solution()"
   ]
  },
  {
   "cell_type": "markdown",
   "id": "1ccefab8",
   "metadata": {
    "papermill": {
     "duration": 0.008178,
     "end_time": "2025-04-14T15:54:47.901347",
     "exception": false,
     "start_time": "2025-04-14T15:54:47.893169",
     "status": "completed"
    },
    "tags": []
   },
   "source": [
    "# 3b.  <span title=\"A bit spicy\" style=\"color: darkgreen \">🌶️</span>\n",
    "\n",
    "<small>Questions, like this one, marked a spicy pepper are a bit harder.</small>\n",
    "\n",
    "Add parentheses to the following expression so that it evaluates to 0."
   ]
  },
  {
   "cell_type": "code",
   "execution_count": 13,
   "id": "f508c6e4",
   "metadata": {
    "execution": {
     "iopub.execute_input": "2025-04-14T15:54:47.918909Z",
     "iopub.status.busy": "2025-04-14T15:54:47.918585Z",
     "iopub.status.idle": "2025-04-14T15:54:47.924537Z",
     "shell.execute_reply": "2025-04-14T15:54:47.923549Z"
    },
    "papermill": {
     "duration": 0.015575,
     "end_time": "2025-04-14T15:54:47.926190",
     "exception": false,
     "start_time": "2025-04-14T15:54:47.910615",
     "status": "completed"
    },
    "tags": []
   },
   "outputs": [
    {
     "data": {
      "text/plain": [
       "0"
      ]
     },
     "execution_count": 13,
     "metadata": {},
     "output_type": "execute_result"
    }
   ],
   "source": [
    "8 - (3 * 2) - (1 + 1)"
   ]
  },
  {
   "cell_type": "code",
   "execution_count": 14,
   "id": "14b99ce1",
   "metadata": {
    "execution": {
     "iopub.execute_input": "2025-04-14T15:54:47.942303Z",
     "iopub.status.busy": "2025-04-14T15:54:47.941977Z",
     "iopub.status.idle": "2025-04-14T15:54:47.945876Z",
     "shell.execute_reply": "2025-04-14T15:54:47.945056Z"
    },
    "papermill": {
     "duration": 0.012885,
     "end_time": "2025-04-14T15:54:47.947392",
     "exception": false,
     "start_time": "2025-04-14T15:54:47.934507",
     "status": "completed"
    },
    "tags": []
   },
   "outputs": [],
   "source": [
    "#q3.b.hint()"
   ]
  },
  {
   "cell_type": "code",
   "execution_count": 15,
   "id": "a7ed2672",
   "metadata": {
    "execution": {
     "iopub.execute_input": "2025-04-14T15:54:47.961612Z",
     "iopub.status.busy": "2025-04-14T15:54:47.961322Z",
     "iopub.status.idle": "2025-04-14T15:54:47.968200Z",
     "shell.execute_reply": "2025-04-14T15:54:47.967358Z"
    },
    "papermill": {
     "duration": 0.015758,
     "end_time": "2025-04-14T15:54:47.969640",
     "exception": false,
     "start_time": "2025-04-14T15:54:47.953882",
     "status": "completed"
    },
    "tags": []
   },
   "outputs": [
    {
     "data": {
      "application/javascript": [
       "parent.postMessage({\"jupyterEvent\": \"custom.exercise_interaction\", \"data\": {\"interactionType\": 3, \"questionType\": 4, \"questionId\": \"3.2_ArithmeticParensHard\", \"learnToolsVersion\": \"0.3.5\", \"valueTowardsCompletion\": 0.0, \"failureMessage\": \"\", \"exceptionClass\": \"\", \"trace\": \"\", \"outcomeType\": 4}}, \"*\")"
      ],
      "text/plain": [
       "<IPython.core.display.Javascript object>"
      ]
     },
     "metadata": {},
     "output_type": "display_data"
    },
    {
     "data": {
      "text/markdown": [
       "<span style=\"color:#33cc99\">Solution:</span> `(8 - 3) * (2 - (1 + 1))` is one solution. There may be others."
      ],
      "text/plain": [
       "Solution: `(8 - 3) * (2 - (1 + 1))` is one solution. There may be others."
      ]
     },
     "metadata": {},
     "output_type": "display_data"
    }
   ],
   "source": [
    "# Check your answer (Run this code cell to receive credit!)\n",
    "q3.b.solution()"
   ]
  },
  {
   "cell_type": "markdown",
   "id": "c604ed70",
   "metadata": {
    "papermill": {
     "duration": 0.006438,
     "end_time": "2025-04-14T15:54:47.982954",
     "exception": false,
     "start_time": "2025-04-14T15:54:47.976516",
     "status": "completed"
    },
    "tags": []
   },
   "source": [
    "<hr/>\n",
    "\n",
    "# 4. \n",
    "Alice, Bob and Carol have agreed to pool their Halloween candy and split it evenly among themselves.\n",
    "For the sake of their friendship, any candies left over will be smashed. For example, if they collectively\n",
    "bring home 91 candies, they'll take 30 each and smash 1.\n",
    "\n",
    "Write an arithmetic expression below to calculate how many candies they must smash for a given haul."
   ]
  },
  {
   "cell_type": "code",
   "execution_count": 16,
   "id": "6bce87ba",
   "metadata": {
    "execution": {
     "iopub.execute_input": "2025-04-14T15:54:47.997511Z",
     "iopub.status.busy": "2025-04-14T15:54:47.997207Z",
     "iopub.status.idle": "2025-04-14T15:54:48.005115Z",
     "shell.execute_reply": "2025-04-14T15:54:48.004382Z"
    },
    "papermill": {
     "duration": 0.016933,
     "end_time": "2025-04-14T15:54:48.006405",
     "exception": false,
     "start_time": "2025-04-14T15:54:47.989472",
     "status": "completed"
    },
    "tags": []
   },
   "outputs": [
    {
     "data": {
      "application/javascript": [
       "parent.postMessage({\"jupyterEvent\": \"custom.exercise_interaction\", \"data\": {\"outcomeType\": 1, \"valueTowardsCompletion\": 0.25, \"interactionType\": 1, \"questionType\": 1, \"questionId\": \"4_CandySplitting\", \"learnToolsVersion\": \"0.3.5\", \"failureMessage\": \"\", \"exceptionClass\": \"\", \"trace\": \"\"}}, \"*\")"
      ],
      "text/plain": [
       "<IPython.core.display.Javascript object>"
      ]
     },
     "metadata": {},
     "output_type": "display_data"
    },
    {
     "data": {
      "text/markdown": [
       "<span style=\"color:#33cc33\">Correct</span>"
      ],
      "text/plain": [
       "Correct"
      ]
     },
     "metadata": {},
     "output_type": "display_data"
    }
   ],
   "source": [
    "# Variables representing the number of candies collected by alice, bob, and carol\n",
    "alice_candies = 121\n",
    "bob_candies = 77\n",
    "carol_candies = 109\n",
    "\n",
    "# Your code goes here! Replace the right-hand side of this assignment with an expression\n",
    "# involving alice_candies, bob_candies, and carol_candies\n",
    "to_smash = (alice_candies + bob_candies + carol_candies) % 3\n",
    "\n",
    "# Check your answer\n",
    "q4.check()"
   ]
  },
  {
   "cell_type": "code",
   "execution_count": 17,
   "id": "87af94c2",
   "metadata": {
    "execution": {
     "iopub.execute_input": "2025-04-14T15:54:48.021829Z",
     "iopub.status.busy": "2025-04-14T15:54:48.020944Z",
     "iopub.status.idle": "2025-04-14T15:54:48.024922Z",
     "shell.execute_reply": "2025-04-14T15:54:48.024171Z"
    },
    "papermill": {
     "duration": 0.013334,
     "end_time": "2025-04-14T15:54:48.026511",
     "exception": false,
     "start_time": "2025-04-14T15:54:48.013177",
     "status": "completed"
    },
    "tags": []
   },
   "outputs": [],
   "source": [
    "#q4.hint()\n",
    "#q4.solution()"
   ]
  },
  {
   "cell_type": "markdown",
   "id": "9323dc27",
   "metadata": {
    "papermill": {
     "duration": 0.006937,
     "end_time": "2025-04-14T15:54:48.040314",
     "exception": false,
     "start_time": "2025-04-14T15:54:48.033377",
     "status": "completed"
    },
    "tags": []
   },
   "source": [
    "# Keep Going\n",
    "\n",
    "Next up, you'll **[learn to write new functions and understand functions others write](https://www.kaggle.com/colinmorris/functions-and-getting-help)**. This will make you at least 10 times more productive as a Python programmer. "
   ]
  },
  {
   "cell_type": "markdown",
   "id": "fa648f0f",
   "metadata": {
    "papermill": {
     "duration": 0.007237,
     "end_time": "2025-04-14T15:54:48.055077",
     "exception": false,
     "start_time": "2025-04-14T15:54:48.047840",
     "status": "completed"
    },
    "tags": []
   },
   "source": [
    "---\n",
    "\n",
    "\n",
    "\n",
    "\n",
    "*Have questions or comments? Visit the [course discussion forum](https://www.kaggle.com/learn/python/discussion) to chat with other learners.*"
   ]
  }
 ],
 "metadata": {
  "kaggle": {
   "accelerator": "none",
   "dataSources": [],
   "isGpuEnabled": false,
   "isInternetEnabled": false,
   "language": "python",
   "sourceType": "notebook"
  },
  "kernelspec": {
   "display_name": "Python 3",
   "language": "python",
   "name": "python3"
  },
  "language_info": {
   "codemirror_mode": {
    "name": "ipython",
    "version": 3
   },
   "file_extension": ".py",
   "mimetype": "text/x-python",
   "name": "python",
   "nbconvert_exporter": "python",
   "pygments_lexer": "ipython3",
   "version": "3.11.11"
  },
  "learntools_metadata": {
   "lesson_index": 0,
   "type": "exercise"
  },
  "papermill": {
   "default_parameters": {},
   "duration": 8.335045,
   "end_time": "2025-04-14T15:54:48.786659",
   "environment_variables": {},
   "exception": null,
   "input_path": "__notebook__.ipynb",
   "output_path": "__notebook__.ipynb",
   "parameters": {},
   "start_time": "2025-04-14T15:54:40.451614",
   "version": "2.6.0"
  }
 },
 "nbformat": 4,
 "nbformat_minor": 5
}
